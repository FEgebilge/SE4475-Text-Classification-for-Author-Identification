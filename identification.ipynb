{
 "cells": [
  {
   "cell_type": "code",
   "execution_count": 1,
   "metadata": {},
   "outputs": [],
   "source": [
    "import os\n",
    "import glob\n",
    "import math\n",
    "from transformers import get_cosine_schedule_with_warmup\n",
    "import torch\n",
    "from collections import Counter\n",
    "from transformers import AutoTokenizer, AutoModelForSequenceClassification\n",
    "from sklearn.metrics import (\n",
    "    precision_score,\n",
    "    recall_score,\n",
    "    f1_score,\n",
    "    classification_report,\n",
    "    accuracy_score,\n",
    "    confusion_matrix,\n",
    "    ConfusionMatrixDisplay,\n",
    ")\n",
    "from sklearn.model_selection import StratifiedKFold\n",
    "from torch.utils.data import DataLoader, Dataset\n",
    "import torch.nn as nn\n",
    "import torch.optim as optim\n",
    "from torch.optim.lr_scheduler import ReduceLROnPlateau\n",
    "import pandas as pd\n",
    "import numpy as np\n",
    "import matplotlib.pyplot as plt\n",
    "from tqdm import tqdm\n",
    "import gc"
   ]
  },
  {
   "cell_type": "code",
   "execution_count": 2,
   "metadata": {},
   "outputs": [],
   "source": [
    "def clear_memory():\n",
    "    \"\"\"Clear GPU memory cache.\"\"\"\n",
    "    if torch.backends.mps.is_available():\n",
    "        torch.mps.empty_cache()\n",
    "    torch.cuda.empty_cache()  # For compatibility if CUDA is used\n",
    "    gc.collect() "
   ]
  },
  {
   "cell_type": "code",
   "execution_count": 3,
   "metadata": {},
   "outputs": [
    {
     "name": "stdout",
     "output_type": "stream",
     "text": [
      "Using device: mps\n"
     ]
    }
   ],
   "source": [
    "# --- Configuration ---\n",
    "config = {\n",
    "    \"data_dir\": \"data\",\n",
    "    \"model_name\": \"dbmdz/bert-base-turkish-cased\",\n",
    "    \"batch_size\": 16,\n",
    "    \"num_epochs\": 15,\n",
    "    \"max_length\": 256,\n",
    "    \"num_folds\": 10,\n",
    "    \"early_stopping_patience\": 3,\n",
    "    \"output_dir\": \"dbmdz/bert-base-turkish-cased-finetuned\",\n",
    "    # Learning rate parameters\n",
    "    \"initial_learning_rate\": 5e-5,\n",
    "    \"min_learning_rate\": 1e-7,\n",
    "    \"warmup_steps\": 0.1,  # 10% of training steps\n",
    "    \"warmup_ratio\": 0.1,  \n",
    "    # Weight decay parameters\n",
    "    \"initial_weight_decay\": 0.01, \n",
    "    \"final_weight_decay\": 0.1,  \n",
    "    \"weight_decay_schedule\": \"linear\"  # Use linear decay\n",
    "}\n",
    "\n",
    "# Create necessary directories\n",
    "model_name = config[\"model_name\"].replace(\"/\", \"_\")\n",
    "os.makedirs(os.path.join(\"fold_metrics\", model_name), exist_ok=True)\n",
    "os.makedirs(os.path.join(\"plots\", model_name), exist_ok=True)\n",
    "\n",
    "# --- Device Setup ---\n",
    "device = torch.device(\"mps\" if torch.backends.mps.is_available() else \"cuda\" if torch.cuda.is_available() else \"cpu\")\n",
    "print(f\"Using device: {device}\")\n",
    "\n",
    "# Initialize best metrics\n",
    "best_params = None\n",
    "best_f1 = 0.0"
   ]
  },
  {
   "cell_type": "markdown",
   "metadata": {},
   "source": [
    "# --- Load and Preprocess Dataset ---"
   ]
  },
  {
   "cell_type": "code",
   "execution_count": 4,
   "metadata": {},
   "outputs": [
    {
     "name": "stdout",
     "output_type": "stream",
     "text": [
      "Loaded 1500 samples from data.\n",
      "Authors: {'AHMET ÇAKAR': 0, 'ALİ SİRMEN': 1, 'ATAOL BEHRAMOĞLU': 2, 'ATİLLA DORSAY': 3, 'AYKAN SEVER': 4, 'AZİZ ÜSTEL': 5, 'CAN ATAKLI': 6, 'DENİZ GÖKÇE': 7, 'EMRE KONGAR': 8, 'GÖZDE BEDELOĞLU': 9, 'HASAN PULUR': 10, 'HİKMET ÇETİNKAYA': 11, 'MEHMET ALİ BİRAND': 12, 'MEHMET DEMİRKOL': 13, 'MELTEM GÜRLE': 14, 'MERYEM KORAY': 15, 'MÜMTAZ SOYSAL': 16, 'NAZAN BEKİROĞLU': 17, 'NAZIM ALPMAN': 18, 'NEDİM HAZAR': 19, 'NEŞE YAŞIN': 20, 'OKAY KARACAN': 21, 'ÖZGE BAŞAK TANELİ': 22, 'REHA MUHTAR': 23, 'RIDVAN DİLMEN': 24, 'RUHAT MENGİ': 25, 'SELİM İLERİ': 26, 'TARHAN ERDEM': 27, 'UFUK BOZKIR': 28, 'YAŞAR SEYMAN': 29}\n",
      "Counter({0: 50, 1: 50, 2: 50, 3: 50, 4: 50, 5: 50, 6: 50, 7: 50, 8: 50, 9: 50, 10: 50, 11: 50, 12: 50, 13: 50, 14: 50, 15: 50, 16: 50, 17: 50, 18: 50, 19: 50, 20: 50, 21: 50, 22: 50, 23: 50, 24: 50, 25: 50, 26: 50, 27: 50, 28: 50, 29: 50})\n"
     ]
    }
   ],
   "source": [
    "def load_dataset(data_dir):\n",
    "    texts, labels = [], []\n",
    "    authors = sorted([d for d in os.listdir(data_dir) if not d.startswith('.')])\n",
    "    author_to_label = {author: idx for idx, author in enumerate(authors)}\n",
    " \n",
    "    for author, label in author_to_label.items():\n",
    "        author_dir = os.path.join(data_dir, author)\n",
    "        if os.path.isdir(author_dir):\n",
    "            for file_name in os.listdir(author_dir):\n",
    "                if not file_name.endswith('.txt'):\n",
    "                    continue\n",
    "                file_path = os.path.join(author_dir, file_name)\n",
    "                try:\n",
    "                    with open(file_path, 'r', encoding='ISO-8859-1') as file:\n",
    "                        texts.append(file.read())\n",
    "                        labels.append(label)\n",
    "                except Exception as e:\n",
    "                    print(f\"Error reading {file_path}: {e}\")\n",
    "    return texts, labels, author_to_label\n",
    "\n",
    "# Load dataset\n",
    "texts, labels, author_to_label = load_dataset(config[\"data_dir\"])\n",
    "print(f\"Loaded {len(texts)} samples from {config['data_dir']}.\")\n",
    "print(f\"Authors: {author_to_label}\")\n",
    "print(Counter(labels))\n"
   ]
  },
  {
   "cell_type": "markdown",
   "metadata": {},
   "source": [
    "# --- Tokenization ---"
   ]
  },
  {
   "cell_type": "code",
   "execution_count": 5,
   "metadata": {},
   "outputs": [
    {
     "name": "stderr",
     "output_type": "stream",
     "text": [
      "/Users/egebilge/anaconda3/lib/python3.11/site-packages/transformers/utils/generic.py:260: FutureWarning: `torch.utils._pytree._register_pytree_node` is deprecated. Please use `torch.utils._pytree.register_pytree_node` instead.\n",
      "  torch.utils._pytree._register_pytree_node(\n",
      "Some weights of BertForSequenceClassification were not initialized from the model checkpoint at dbmdz/bert-base-turkish-cased and are newly initialized: ['classifier.bias', 'classifier.weight']\n",
      "You should probably TRAIN this model on a down-stream task to be able to use it for predictions and inference.\n"
     ]
    }
   ],
   "source": [
    "tokenizer = AutoTokenizer.from_pretrained(config[\"model_name\"])\n",
    "model = AutoModelForSequenceClassification.from_pretrained(\n",
    "    config[\"model_name\"],\n",
    "    num_labels=30,  # Number of authors\n",
    "    problem_type=\"single_label_classification\"\n",
    ")\n",
    "\n",
    "class TextDataset(Dataset):\n",
    "    def __init__(self, texts, labels, tokenizer, max_length):\n",
    "        self.texts = texts\n",
    "        self.labels = labels\n",
    "        self.tokenizer = tokenizer\n",
    "        self.max_length = max_length\n",
    "\n",
    "    def __len__(self):\n",
    "        return len(self.texts)\n",
    "\n",
    "    def __getitem__(self, idx):\n",
    "        text = self.texts[idx]\n",
    "        label = self.labels[idx]\n",
    "        encoding = self.tokenizer(\n",
    "            text, max_length=self.max_length, truncation=True, padding=\"max_length\", return_tensors=\"pt\"\n",
    "        )\n",
    "        return {\n",
    "            \"input_ids\": encoding[\"input_ids\"].squeeze().to(device),\n",
    "            \"attention_mask\": encoding[\"attention_mask\"].squeeze().to(device),\n",
    "            \"labels\": torch.tensor(label, dtype=torch.long).to(device)\n",
    "        }"
   ]
  },
  {
   "cell_type": "code",
   "execution_count": 6,
   "metadata": {},
   "outputs": [],
   "source": [
    "def save_fold_metrics(true_labels, predictions, num_classes, fold):\n",
    "    \"\"\"Calculate and save metrics for each fold.\"\"\"\n",
    "    # Create model-specific directory\n",
    "    model_name = config[\"model_name\"].replace(\"/\", \"_\")\n",
    "    metrics_dir = os.path.join(\"fold_metrics\", model_name)\n",
    "\n",
    "    \n",
    "    # Calculate class-wise metrics\n",
    "    precision = precision_score(true_labels, predictions, average=None)\n",
    "    recall = recall_score(true_labels, predictions, average=None)\n",
    "    f1 = f1_score(true_labels, predictions, average=None)\n",
    "    \n",
    "    # Calculate averages\n",
    "    precision_avg = precision.mean()\n",
    "    recall_avg = recall.mean()\n",
    "    f1_avg = f1.mean()\n",
    "    \n",
    "    # Save metrics to CSV\n",
    "    metrics_df = pd.DataFrame({\n",
    "        'Class': [f'Class {i+1}' for i in range(num_classes)] + ['Average'],\n",
    "        'Precision': list(precision) + [precision_avg],\n",
    "        'Recall': list(recall) + [recall_avg],\n",
    "        'F1-Score': list(f1) + [f1_avg]\n",
    "    })\n",
    "    \n",
    "    # Save to CSV\n",
    "    output_path = os.path.join(metrics_dir, f\"performance_metrics_fold_{fold}.csv\")\n",
    "    metrics_df.to_csv(output_path, index=False)\n",
    "    print(f\"Metrics for fold {fold} saved to {output_path}\")\n",
    "    \n",
    "    return precision_avg, recall_avg, f1_avg"
   ]
  },
  {
   "cell_type": "code",
   "execution_count": 7,
   "metadata": {},
   "outputs": [],
   "source": [
    "def generate_combined_plots(train_metrics, val_metrics, all_labels, all_preds, num_classes, fold):\n",
    "    # Create plots directory\n",
    "    model_name = config[\"model_name\"].replace(\"/\", \"_\")\n",
    "    plots_dir = os.path.join(\"plots\", model_name)\n",
    "    \n",
    "    # Extract metrics history\n",
    "    epochs = range(1, len(train_metrics) + 1)\n",
    "    train_losses = [m['loss'] for m in train_metrics]\n",
    "    train_precisions = [m['precision'] for m in train_metrics]\n",
    "    train_recalls = [m['recall'] for m in train_metrics]\n",
    "    train_f1s = [m['f1'] for m in train_metrics]\n",
    "    \n",
    "    val_losses = [m['loss'] for m in val_metrics]\n",
    "    val_precisions = [m['precision'] for m in val_metrics]\n",
    "    val_recalls = [m['recall'] for m in val_metrics]\n",
    "    val_f1s = [m['f1'] for m in val_metrics]\n",
    "    \n",
    "    # Create figure with subplots\n",
    "    fig = plt.figure(figsize=(20, 15))\n",
    "    gs = fig.add_gridspec(3, 2)\n",
    "    \n",
    "    # 1. Training and Validation Loss\n",
    "    ax1 = fig.add_subplot(gs[0, 0])\n",
    "    ax1.plot(epochs, train_losses, 'b-', label='Training Loss', marker='o')\n",
    "    ax1.plot(epochs, val_losses, 'r-', label='Validation Loss', marker='o')\n",
    "    ax1.set_title('Loss Progress')\n",
    "    ax1.set_xlabel('Epochs')\n",
    "    ax1.set_ylabel('Loss')\n",
    "    ax1.legend()\n",
    "    ax1.grid(True)\n",
    "    \n",
    "    # 2. All Metrics Progress\n",
    "    ax2 = fig.add_subplot(gs[0, 1])\n",
    "    ax2.plot(epochs, train_precisions, 'b-', label='Train Precision', marker='o')\n",
    "    ax2.plot(epochs, train_recalls, 'g-', label='Train Recall', marker='o')\n",
    "    ax2.plot(epochs, train_f1s, 'r-', label='Train F1', marker='o')\n",
    "    ax2.plot(epochs, val_precisions, 'b--', label='Val Precision', marker='s')\n",
    "    ax2.plot(epochs, val_recalls, 'g--', label='Val Recall', marker='s')\n",
    "    ax2.plot(epochs, val_f1s, 'r--', label='Val F1', marker='s')\n",
    "    ax2.set_title('Metrics Progress')\n",
    "    ax2.set_xlabel('Epochs')\n",
    "    ax2.set_ylabel('Score')\n",
    "    ax2.legend()\n",
    "    ax2.grid(True)\n",
    "    \n",
    "    # 3. Per-Class Performance\n",
    "    class_precision = precision_score(all_labels, all_preds, labels=np.arange(num_classes), average=None, zero_division=0)\n",
    "    class_recall = recall_score(all_labels, all_preds, labels=np.arange(num_classes), average=None, zero_division=0)\n",
    "    class_f1 = f1_score(all_labels, all_preds, labels=np.arange(num_classes), average=None, zero_division=0)\n",
    "\n",
    "    \"\"\"\n",
    "    print(f\"Precision: {class_precision}\")\n",
    "    print(f\"Recall: {class_recall}\")\n",
    "    print(f\"F1-Score: {class_f1}\")\n",
    "    \"\"\"\n",
    "    \n",
    "    x = np.arange(num_classes)\n",
    "    width = 0.25\n",
    "    \n",
    "    ax3 = fig.add_subplot(gs[1, :])\n",
    "    ax3.bar(x - width, class_precision, width, label='Precision', color='blue', alpha=0.7)\n",
    "    ax3.bar(x, class_recall, width, label='Recall', color='green', alpha=0.7)\n",
    "    ax3.bar(x + width, class_f1, width, label='F1-score', color='red', alpha=0.7)\n",
    "    \n",
    "    ax3.set_ylabel('Scores')\n",
    "    ax3.set_title('Per-Class Performance')\n",
    "    ax3.set_xticks(x)\n",
    "    ax3.set_xticklabels([f'Class {i+1}' for i in range(num_classes)], rotation=45)\n",
    "    ax3.legend()\n",
    "    ax3.grid(True)\n",
    "    \n",
    "    # 4. Confusion Matrix\n",
    "    ax4 = fig.add_subplot(gs[2, :])  # Define ax4 here\n",
    "    cm = confusion_matrix(all_labels, all_preds, labels=np.arange(num_classes))\n",
    "    print(f\"Confusion Matrix Shape: {cm.shape}\")\n",
    "    disp = ConfusionMatrixDisplay(confusion_matrix=cm, display_labels=[f'Class {i+1}' for i in range(num_classes)])\n",
    "    disp.plot(ax=ax4, cmap='Blues', xticks_rotation=45)\n",
    "    ax4.set_title('Confusion Matrix')\n",
    "\n",
    "    \n",
    "    # Adjust layout and save\n",
    "    plt.tight_layout()\n",
    "    plt.savefig(os.path.join(plots_dir, f'combined_metrics_fold_{fold}.png'), dpi=300, bbox_inches='tight')\n",
    "    plt.close()\n",
    "    print(f\"Plots saved to {os.path.join(plots_dir, f'combined_metrics_fold_{fold}.png')}\")\n"
   ]
  },
  {
   "cell_type": "code",
   "execution_count": 8,
   "metadata": {},
   "outputs": [],
   "source": [
    "def focal_loss(logits, labels, alpha=1, gamma=2):\n",
    "    probs = torch.softmax(logits, dim=1)\n",
    "    probs_gt = probs.gather(1, labels.view(-1, 1)).squeeze()\n",
    "    ce_loss = -torch.log(probs_gt + 1e-9)\n",
    "    focal_loss = alpha * (1 - probs_gt) ** gamma * ce_loss\n",
    "    return focal_loss.mean()"
   ]
  },
  {
   "cell_type": "code",
   "execution_count": 9,
   "metadata": {},
   "outputs": [],
   "source": [
    "def get_scheduler(optimizer, num_training_steps):\n",
    "    \"\"\"Create a learning rate scheduler with warmup and cosine decay.\"\"\"\n",
    "    warmup_steps = int(num_training_steps * config[\"warmup_steps\"])\n",
    "    return get_cosine_schedule_with_warmup(\n",
    "        optimizer,\n",
    "        num_warmup_steps=warmup_steps,\n",
    "        num_training_steps=num_training_steps,\n",
    "        num_cycles=0.5\n",
    "    )\n",
    "\n",
    "def get_weight_decay(epoch, num_epochs):\n",
    "    \"\"\"Calculate weight decay based on training progress.\"\"\"\n",
    "    if config[\"weight_decay_schedule\"] == \"linear\":\n",
    "        progress = epoch / num_epochs\n",
    "        return config[\"initial_weight_decay\"] + (config[\"final_weight_decay\"] - config[\"initial_weight_decay\"]) * progress\n",
    "    else:  # cosine\n",
    "        progress = epoch / num_epochs\n",
    "        return config[\"initial_weight_decay\"] + (config[\"final_weight_decay\"] - config[\"initial_weight_decay\"]) * \\\n",
    "               (1 + math.cos(math.pi * progress)) / 2"
   ]
  },
  {
   "cell_type": "code",
   "execution_count": 10,
   "metadata": {},
   "outputs": [],
   "source": [
    "def save_fold_metrics(true_labels, predictions, num_classes, fold):\n",
    "    \"\"\"Calculate and save metrics for each fold.\"\"\"\n",
    "    # Create model-specific directory\n",
    "    model_name = config[\"model_name\"].replace(\"/\", \"_\")\n",
    "    metrics_dir = os.path.join(\"fold_metrics\", model_name)\n",
    "\n",
    "    \n",
    "    # Calculate class-wise metrics\n",
    "    precision = precision_score(true_labels, predictions, average=None)\n",
    "    recall = recall_score(true_labels, predictions, average=None)\n",
    "    f1 = f1_score(true_labels, predictions, average=None)\n",
    "    \n",
    "    # Calculate averages\n",
    "    precision_avg = precision.mean()\n",
    "    recall_avg = recall.mean()\n",
    "    f1_avg = f1.mean()\n",
    "    \n",
    "    # Save metrics to CSV\n",
    "    metrics_df = pd.DataFrame({\n",
    "        'Class': [f'Class {i+1}' for i in range(num_classes)] + ['Average'],\n",
    "        'Precision': list(precision) + [precision_avg],\n",
    "        'Recall': list(recall) + [recall_avg],\n",
    "        'F1-Score': list(f1) + [f1_avg]\n",
    "    })\n",
    "    \n",
    "    # Save to CSV\n",
    "    output_path = os.path.join(metrics_dir, f\"performance_metrics_fold_{fold}.csv\")\n",
    "    metrics_df.to_csv(output_path, index=False)\n",
    "    print(f\"Metrics for fold {fold} saved to {output_path}\")\n",
    "    \n",
    "    return precision_avg, recall_avg, f1_avg"
   ]
  },
  {
   "cell_type": "markdown",
   "metadata": {},
   "source": [
    "# --- Training Loop ---"
   ]
  },
  {
   "cell_type": "code",
   "execution_count": 11,
   "metadata": {},
   "outputs": [],
   "source": [
    "def train_epoch(model, dataloader, optimizer, scheduler, device, epoch_num, num_epochs):\n",
    "    model.train()\n",
    "    total_loss = 0\n",
    "    all_preds, all_labels = [], []\n",
    "    progress_bar = tqdm(dataloader, desc=\"Training\", unit=\"batch\")\n",
    "    \n",
    "    # Update weight decay for this epoch\n",
    "    current_weight_decay = get_weight_decay(epoch_num, num_epochs)\n",
    "    for param_group in optimizer.param_groups:\n",
    "        param_group['weight_decay'] = current_weight_decay\n",
    "    \n",
    "    for batch in progress_bar:\n",
    "        optimizer.zero_grad()\n",
    "        input_ids = batch[\"input_ids\"].to(device)\n",
    "        attention_mask = batch[\"attention_mask\"].to(device)\n",
    "        labels = batch[\"labels\"].to(device)\n",
    "\n",
    "        outputs = model(input_ids=input_ids, attention_mask=attention_mask, labels=labels)\n",
    "        logits = outputs.logits\n",
    "\n",
    "        loss = focal_loss(logits, labels, alpha=1, gamma=2)\n",
    "        loss.backward()\n",
    "        \n",
    "        # Gradient clipping for stability\n",
    "        torch.nn.utils.clip_grad_norm_(model.parameters(), max_norm=1.0)\n",
    "        \n",
    "        optimizer.step()\n",
    "        scheduler.step()  # Update learning rate\n",
    "        \n",
    "        total_loss += loss.item()\n",
    "        \n",
    "        # Collect predictions for metrics\n",
    "        preds = torch.argmax(logits, dim=1)\n",
    "        all_preds.extend(preds.cpu().numpy())\n",
    "        all_labels.extend(labels.cpu().numpy())\n",
    "        \n",
    "        # Update progress bar with current learning rate and weight decay\n",
    "        current_lr = scheduler.get_last_lr()[0]\n",
    "        progress_bar.set_postfix({\n",
    "            'loss': f'{loss.item():.4f}',\n",
    "            'lr': f'{current_lr:.2e}',\n",
    "            'wd': f'{current_weight_decay:.2e}'\n",
    "        })\n",
    "    \n",
    "    # Calculate training metrics\n",
    "    precision = precision_score(all_labels, all_preds, average='weighted')\n",
    "    recall = recall_score(all_labels, all_preds, average='weighted')\n",
    "    f1 = f1_score(all_labels, all_preds, average='weighted')\n",
    "    \n",
    "    return {\n",
    "        'loss': total_loss / len(dataloader),\n",
    "        'precision': precision,\n",
    "        'recall': recall,\n",
    "        'f1': f1,\n",
    "        'learning_rate': scheduler.get_last_lr()[0],\n",
    "        'weight_decay': current_weight_decay\n",
    "    }\n",
    "\n",
    "def evaluate_epoch(model, dataloader, device):\n",
    "    model.eval()\n",
    "    total_loss = 0\n",
    "    all_preds, all_labels = [], []\n",
    "    \n",
    "    with torch.no_grad():\n",
    "        for batch in dataloader:\n",
    "            input_ids = batch[\"input_ids\"].to(device)\n",
    "            attention_mask = batch[\"attention_mask\"].to(device)\n",
    "            labels = batch[\"labels\"].to(device)\n",
    "            \n",
    "            outputs = model(input_ids=input_ids, attention_mask=attention_mask, labels=labels)\n",
    "            logits = outputs.logits\n",
    "            loss = focal_loss(logits, labels, alpha=1, gamma=2)\n",
    "            total_loss += loss.item()\n",
    "            \n",
    "            preds = torch.argmax(logits, dim=1)\n",
    "            all_preds.extend(preds.cpu().numpy())\n",
    "            all_labels.extend(labels.cpu().numpy())\n",
    "    \n",
    "    # Calculate metrics including accuracy\n",
    "    accuracy = accuracy_score(all_labels, all_preds)\n",
    "    precision = precision_score(all_labels, all_preds, average='weighted')\n",
    "    recall = recall_score(all_labels, all_preds, average='weighted')\n",
    "    f1 = f1_score(all_labels, all_preds, average='weighted')\n",
    "    \n",
    "    return {\n",
    "        'loss': total_loss / len(dataloader),\n",
    "        'accuracy': accuracy,\n",
    "        'precision': precision,\n",
    "        'recall': recall,\n",
    "        'f1': f1,\n",
    "        'predictions': all_preds,\n",
    "        'true_labels': all_labels\n",
    "    }\n",
    "\n",
    "def train_and_evaluate(model, train_data, train_labels, val_data, val_labels, fold):\n",
    "    # Create datasets and dataloaders\n",
    "    model = model.to(device)\n",
    "    clear_memory()\n",
    "    train_dataset = TextDataset(train_data, train_labels, tokenizer, config[\"max_length\"])\n",
    "    val_dataset = TextDataset(val_data, val_labels, tokenizer, config[\"max_length\"])\n",
    "    \n",
    "    train_loader = DataLoader(train_dataset, batch_size=config['batch_size'], shuffle=True)\n",
    "    val_loader = DataLoader(val_dataset, batch_size=config['batch_size'])\n",
    "    \n",
    "    # Calculate total steps and warmup steps\n",
    "    num_training_steps = len(train_loader) * config['num_epochs']\n",
    "    num_warmup_steps = int(num_training_steps * config['warmup_ratio'])\n",
    "    \n",
    "    # Initialize optimizer with initial learning rate and weight decay\n",
    "    optimizer = optim.AdamW(\n",
    "        model.parameters(),\n",
    "        lr=config['initial_learning_rate'],\n",
    "        weight_decay=config['initial_weight_decay'],\n",
    "        betas=(0.9, 0.999),\n",
    "        eps=1e-8\n",
    "    )\n",
    "    \n",
    "    # Initialize learning rate scheduler with warmup and cosine decay\n",
    "    scheduler = get_cosine_schedule_with_warmup(\n",
    "        optimizer,\n",
    "        num_warmup_steps=num_warmup_steps,\n",
    "        num_training_steps=num_training_steps\n",
    "    )\n",
    "    \n",
    "    best_val_f1 = 0\n",
    "    early_stopping_counter = 0\n",
    "    train_metrics_history = []\n",
    "    val_metrics_history = []\n",
    "    \n",
    "    print(f\"\\n{'='*50}\")\n",
    "    print(f\"Training Fold {fold}\")\n",
    "    print(f\"{'='*50}\")\n",
    "    print(f\"Total steps: {num_training_steps}, Warmup steps: {num_warmup_steps}\")\n",
    "    \n",
    "    for epoch in range(config['num_epochs']):\n",
    "        print(f\"\\nEpoch {epoch + 1}/{config['num_epochs']}\")\n",
    "        print(\"-\" * 30)\n",
    "        \n",
    "        # Training\n",
    "        train_metrics = train_epoch(\n",
    "            model, train_loader, optimizer, scheduler, device, \n",
    "            epoch, config['num_epochs']\n",
    "        )\n",
    "        train_metrics_history.append(train_metrics)\n",
    "        clear_memory()\n",
    "        \n",
    "        # Validation\n",
    "        val_metrics = evaluate_epoch(model, val_loader, device)\n",
    "        val_metrics_history.append(val_metrics)\n",
    "        clear_memory()\n",
    "        \n",
    "        # Print metrics\n",
    "        print(f\"\\nTraining Metrics:\")\n",
    "        print(f\"Loss: {train_metrics['loss']:.4f}\")\n",
    "        print(f\"Precision: {train_metrics['precision']:.4f}\")\n",
    "        print(f\"Recall: {train_metrics['recall']:.4f}\")\n",
    "        print(f\"F1-Score: {train_metrics['f1']:.4f}\")\n",
    "        print(f\"Learning Rate: {train_metrics['learning_rate']:.2e}\")\n",
    "        print(f\"Weight Decay: {train_metrics['weight_decay']:.2e}\")\n",
    "        \n",
    "        print(f\"\\nValidation Metrics:\")\n",
    "        print(f\"Loss: {val_metrics['loss']:.4f}\")\n",
    "        print(f\"Accuracy: {val_metrics['accuracy']:.4f}\")\n",
    "        print(f\"Precision: {val_metrics['precision']:.4f}\")\n",
    "        print(f\"Recall: {val_metrics['recall']:.4f}\")\n",
    "        print(f\"F1-Score: {val_metrics['f1']:.4f}\")\n",
    "        \n",
    "        # Early stopping check\n",
    "        if val_metrics['f1'] > best_val_f1:\n",
    "            best_val_f1 = val_metrics['f1']\n",
    "            early_stopping_counter = 0\n",
    "            best_metrics = val_metrics\n",
    "            \n",
    "            # Save the best model for this fold\n",
    "            os.makedirs(config['output_dir'], exist_ok=True)\n",
    "            model_save_path = os.path.join(config['output_dir'], f'best_model_fold_{fold}.pt')\n",
    "            torch.save({\n",
    "                'epoch': epoch,\n",
    "                'model_state_dict': model.state_dict(),\n",
    "                'optimizer_state_dict': optimizer.state_dict(),\n",
    "                'scheduler_state_dict': scheduler.state_dict(),\n",
    "                'best_f1': best_val_f1,\n",
    "                'config': config\n",
    "            }, model_save_path)\n",
    "            print(f\"\\nSaved best model for fold {fold} with F1: {best_val_f1:.4f}\")\n",
    "        else:\n",
    "            early_stopping_counter += 1\n",
    "            \n",
    "        if early_stopping_counter >= config['early_stopping_patience']:\n",
    "            print(\"\\nEarly stopping triggered\")\n",
    "            break\n",
    "    \n",
    "    # Generate visualizations\n",
    "    generate_combined_plots(\n",
    "        train_metrics_history,\n",
    "        val_metrics_history,\n",
    "        best_metrics['true_labels'],\n",
    "        best_metrics['predictions'],\n",
    "        30,  # number of classes\n",
    "        fold\n",
    "    )\n",
    "    \n",
    "    # Save fold metrics\n",
    "    precision_avg, recall_avg, f1_avg = save_fold_metrics(\n",
    "        best_metrics['true_labels'],\n",
    "        best_metrics['predictions'],\n",
    "        30,\n",
    "        fold\n",
    "    )\n",
    "    \n",
    "    return best_metrics\n",
    "\n",
    "def cross_validate(texts, labels):\n",
    "    global best_f1\n",
    "    \n",
    "    skf = StratifiedKFold(n_splits=config['num_folds'], shuffle=True, random_state=42)\n",
    "    fold_metrics = []\n",
    "    \n",
    "    for fold, (train_idx, val_idx) in enumerate(skf.split(texts, labels)):\n",
    "        print(f\"\\nFold {fold + 1}/{config['num_folds']}\")\n",
    "        print(f\"Train size: {len(train_idx)}, Validation size: {len(val_idx)}\")\n",
    "        clear_memory()\n",
    "        \n",
    "        # Reset model for each fold\n",
    "        model = AutoModelForSequenceClassification.from_pretrained(\n",
    "            config[\"model_name\"],\n",
    "            num_labels=30,\n",
    "            problem_type=\"single_label_classification\"\n",
    "        ).to(device)\n",
    "        \n",
    "        # Split data\n",
    "        X_train = [texts[i] for i in train_idx]\n",
    "        y_train = [labels[i] for i in train_idx]\n",
    "        X_val = [texts[i] for i in val_idx]\n",
    "        y_val = [labels[i] for i in val_idx]\n",
    "        \n",
    "        # Train and evaluate\n",
    "        metrics = train_and_evaluate(\n",
    "            model, X_train, y_train, X_val, y_val, fold + 1\n",
    "        )\n",
    "        \n",
    "        fold_metrics.append({\n",
    "            'fold': fold + 1,\n",
    "            'loss': metrics['loss'],\n",
    "            'accuracy': metrics['accuracy'],\n",
    "            'precision': metrics['precision'],\n",
    "            'recall': metrics['recall'],\n",
    "            'f1': metrics['f1']\n",
    "        })\n",
    "        \n",
    "        # Print fold results\n",
    "        print(f\"\\nFold {fold + 1} Results:\")\n",
    "        print(f\"Loss: {metrics['loss']:.4f}\")\n",
    "        print(f\"Accuracy: {metrics['accuracy']:.4f}\")\n",
    "        print(f\"Precision: {metrics['precision']:.4f}\")\n",
    "        print(f\"Recall: {metrics['recall']:.4f}\")\n",
    "        print(f\"F1-Score: {metrics['f1']:.4f}\")\n",
    "        \n",
    "        del model\n",
    "        clear_memory()\n",
    "    \n",
    "    # Calculate average metrics across folds\n",
    "    avg_metrics = {\n",
    "        'loss': np.mean([m['loss'] for m in fold_metrics]),\n",
    "        'accuracy': np.mean([m['accuracy'] for m in fold_metrics]),\n",
    "        'precision': np.mean([m['precision'] for m in fold_metrics]),\n",
    "        'recall': np.mean([m['recall'] for m in fold_metrics]),\n",
    "        'f1': np.mean([m['f1'] for m in fold_metrics])\n",
    "    }\n",
    "    \n",
    "    print('\\nAverage metrics across folds:')\n",
    "    print(f\"Loss: {avg_metrics['loss']:.4f}\")\n",
    "    print(f\"Accuracy: {avg_metrics['accuracy']:.4f}\")\n",
    "    print(f\"Precision: {avg_metrics['precision']:.4f}\")\n",
    "    print(f\"Recall: {avg_metrics['recall']:.4f}\")\n",
    "    print(f\"F1-Score: {avg_metrics['f1']:.4f}\")\n",
    "    \n",
    "    # Save overall results\n",
    "    results_df = pd.DataFrame(fold_metrics)\n",
    "    results_df.to_csv('fold_results.csv', index=False)\n",
    "    print(\"\\nSaved detailed fold results to 'fold_results.csv'\")\n",
    "    \n",
    "    best_f1 = avg_metrics['f1']\n",
    "    \n",
    "    return avg_metrics"
   ]
  },
  {
   "cell_type": "markdown",
   "metadata": {},
   "source": [
    "# --- Generate Overall Results ---"
   ]
  },
  {
   "cell_type": "code",
   "execution_count": 12,
   "metadata": {},
   "outputs": [],
   "source": [
    "def generate_overall_results(fold_metrics_dir, output_filename=\"overall_performance_metrics.csv\"):\n",
    "    # Gather all fold-level CSV files\n",
    "    fold_files = glob.glob(os.path.join(fold_metrics_dir, \"performance_metrics_fold_*.csv\"))\n",
    "    if not fold_files:\n",
    "        raise FileNotFoundError(\"No fold-level performance metrics files found in the directory.\")\n",
    "\n",
    "    # Initialize DataFrame for aggregation\n",
    "    all_folds_metrics = []\n",
    "\n",
    "    # Process each fold file\n",
    "    for file in fold_files:\n",
    "        fold_df = pd.read_csv(file)\n",
    "        all_folds_metrics.append(fold_df)\n",
    "\n",
    "    # Combine all fold data\n",
    "    combined_df = pd.concat(all_folds_metrics)\n",
    "\n",
    "    # Exclude the \"Average\" row for class-level aggregation\n",
    "    class_only_df = combined_df[~combined_df[\"Class\"].str.contains(\"Average\")]\n",
    "\n",
    "    # Aggregate metrics by class\n",
    "    aggregated_metrics = class_only_df.groupby(\"Class\").mean().reset_index()\n",
    "\n",
    "    # Sort the metrics by Class\n",
    "    aggregated_metrics[\"Class\"] = aggregated_metrics[\"Class\"].str.extract(r'(\\d+)').astype(int)\n",
    "    aggregated_metrics = aggregated_metrics.sort_values(by=\"Class\").reset_index(drop=True)\n",
    "\n",
    "    # Compute overall averages\n",
    "    overall_precision = aggregated_metrics[\"Precision\"].mean()\n",
    "    overall_recall = aggregated_metrics[\"Recall\"].mean()\n",
    "    overall_f1 = aggregated_metrics[\"F1-Score\"].mean()\n",
    "\n",
    "    # Add \"Average\" row to the results using pd.concat\n",
    "    average_row = pd.DataFrame(\n",
    "        {\n",
    "            \"Class\": [\"Average\"],\n",
    "            \"Precision\": [overall_precision],\n",
    "            \"Recall\": [overall_recall],\n",
    "            \"F1-Score\": [overall_f1],\n",
    "        }\n",
    "    )\n",
    "    aggregated_metrics = pd.concat([aggregated_metrics, average_row], ignore_index=True)\n",
    "\n",
    "    # Save to a new CSV file\n",
    "    aggregated_metrics.to_csv(output_filename, index=False)\n",
    "    print(f\"Overall performance metrics saved to '{output_filename}'.\")\n",
    "\n",
    "    return aggregated_metrics\n"
   ]
  },
  {
   "cell_type": "code",
   "execution_count": 13,
   "metadata": {},
   "outputs": [],
   "source": [
    "\n",
    "def display_as_dataframe(aggregated_metrics):\n",
    "    \"\"\"\n",
    "    Display the overall performance metrics as a clean DataFrame.\n",
    "\n",
    "    Args:\n",
    "        aggregated_metrics (pd.DataFrame): DataFrame containing overall performance metrics.\n",
    "    \"\"\"\n",
    "    # Rename columns to match the teacher's format\n",
    "    aggregated_metrics = aggregated_metrics.rename(columns={\"Class\": \" \", \"Precision\": \"Precision\", \"Recall\": \"Recall\", \"F1-Score\": \"F-Score\"})\n",
    "    \n",
    "    # Display the DataFrame as is\n",
    "    display(aggregated_metrics.style.set_table_styles(\n",
    "        [{'selector': 'th', 'props': [('text-align', 'center'), ('font-weight', 'bold')]},\n",
    "         {'selector': 'td', 'props': [('text-align', 'center')]}]\n",
    "    ).set_caption(\"Overall Performance Metrics\"))\n"
   ]
  },
  {
   "cell_type": "markdown",
   "metadata": {},
   "source": [
    "# --- Execute Training ---"
   ]
  },
  {
   "cell_type": "code",
   "execution_count": 14,
   "metadata": {},
   "outputs": [
    {
     "name": "stdout",
     "output_type": "stream",
     "text": [
      "\n",
      "Fold 1/10\n",
      "Train size: 1350, Validation size: 150\n"
     ]
    },
    {
     "name": "stderr",
     "output_type": "stream",
     "text": [
      "Some weights of BertForSequenceClassification were not initialized from the model checkpoint at dbmdz/bert-base-turkish-cased and are newly initialized: ['classifier.bias', 'classifier.weight']\n",
      "You should probably TRAIN this model on a down-stream task to be able to use it for predictions and inference.\n"
     ]
    },
    {
     "name": "stdout",
     "output_type": "stream",
     "text": [
      "\n",
      "==================================================\n",
      "Training Fold 1\n",
      "==================================================\n",
      "Total steps: 1275, Warmup steps: 127\n",
      "\n",
      "Epoch 1/15\n",
      "------------------------------\n"
     ]
    },
    {
     "name": "stderr",
     "output_type": "stream",
     "text": [
      "Training: 100%|██████████| 85/85 [01:31<00:00,  1.08s/batch, loss=2.6901, lr=3.35e-05, wd=1.00e-02]\n",
      "/Users/egebilge/anaconda3/lib/python3.11/site-packages/sklearn/metrics/_classification.py:1469: UndefinedMetricWarning: Precision is ill-defined and being set to 0.0 in labels with no predicted samples. Use `zero_division` parameter to control this behavior.\n",
      "  _warn_prf(average, modifier, msg_start, len(result))\n"
     ]
    },
    {
     "name": "stdout",
     "output_type": "stream",
     "text": [
      "\n",
      "Training Metrics:\n",
      "Loss: 3.1149\n",
      "Precision: 0.1046\n",
      "Recall: 0.0578\n",
      "F1-Score: 0.0459\n",
      "Learning Rate: 3.35e-05\n",
      "Weight Decay: 1.00e-02\n",
      "\n",
      "Validation Metrics:\n",
      "Loss: 2.6139\n",
      "Accuracy: 0.1867\n",
      "Precision: 0.1116\n",
      "Recall: 0.1867\n",
      "F1-Score: 0.1037\n",
      "\n",
      "Saved best model for fold 1 with F1: 0.1037\n",
      "\n",
      "Epoch 2/15\n",
      "------------------------------\n"
     ]
    },
    {
     "name": "stderr",
     "output_type": "stream",
     "text": [
      "Training: 100%|██████████| 85/85 [01:30<00:00,  1.07s/batch, loss=0.9838, lr=4.98e-05, wd=1.60e-02]\n"
     ]
    },
    {
     "name": "stdout",
     "output_type": "stream",
     "text": [
      "\n",
      "Training Metrics:\n",
      "Loss: 1.7646\n",
      "Precision: 0.4872\n",
      "Recall: 0.4281\n",
      "F1-Score: 0.4225\n",
      "Learning Rate: 4.98e-05\n",
      "Weight Decay: 1.60e-02\n",
      "\n",
      "Validation Metrics:\n",
      "Loss: 0.9013\n",
      "Accuracy: 0.7000\n",
      "Precision: 0.7790\n",
      "Recall: 0.7000\n",
      "F1-Score: 0.7054\n",
      "\n",
      "Saved best model for fold 1 with F1: 0.7054\n",
      "\n",
      "Epoch 3/15\n",
      "------------------------------\n"
     ]
    },
    {
     "name": "stderr",
     "output_type": "stream",
     "text": [
      "Training: 100%|██████████| 85/85 [01:30<00:00,  1.07s/batch, loss=0.3028, lr=4.85e-05, wd=2.20e-02]\n"
     ]
    },
    {
     "name": "stdout",
     "output_type": "stream",
     "text": [
      "\n",
      "Training Metrics:\n",
      "Loss: 0.5490\n",
      "Precision: 0.8133\n",
      "Recall: 0.8119\n",
      "F1-Score: 0.8089\n",
      "Learning Rate: 4.85e-05\n",
      "Weight Decay: 2.20e-02\n",
      "\n",
      "Validation Metrics:\n",
      "Loss: 0.4439\n",
      "Accuracy: 0.8267\n",
      "Precision: 0.8577\n",
      "Recall: 0.8267\n",
      "F1-Score: 0.8163\n",
      "\n",
      "Saved best model for fold 1 with F1: 0.8163\n",
      "\n",
      "Epoch 4/15\n",
      "------------------------------\n"
     ]
    },
    {
     "name": "stderr",
     "output_type": "stream",
     "text": [
      "Training: 100%|██████████| 85/85 [01:30<00:00,  1.07s/batch, loss=0.0189, lr=4.59e-05, wd=2.80e-02]\n"
     ]
    },
    {
     "name": "stdout",
     "output_type": "stream",
     "text": [
      "\n",
      "Training Metrics:\n",
      "Loss: 0.1878\n",
      "Precision: 0.9076\n",
      "Recall: 0.9059\n",
      "F1-Score: 0.9051\n",
      "Learning Rate: 4.59e-05\n",
      "Weight Decay: 2.80e-02\n",
      "\n",
      "Validation Metrics:\n",
      "Loss: 0.3096\n",
      "Accuracy: 0.8733\n",
      "Precision: 0.8919\n",
      "Recall: 0.8733\n",
      "F1-Score: 0.8645\n",
      "\n",
      "Saved best model for fold 1 with F1: 0.8645\n",
      "\n",
      "Epoch 5/15\n",
      "------------------------------\n"
     ]
    },
    {
     "name": "stderr",
     "output_type": "stream",
     "text": [
      "Training: 100%|██████████| 85/85 [01:30<00:00,  1.07s/batch, loss=0.0137, lr=4.21e-05, wd=3.40e-02]\n"
     ]
    },
    {
     "name": "stdout",
     "output_type": "stream",
     "text": [
      "\n",
      "Training Metrics:\n",
      "Loss: 0.0510\n",
      "Precision: 0.9747\n",
      "Recall: 0.9741\n",
      "F1-Score: 0.9741\n",
      "Learning Rate: 4.21e-05\n",
      "Weight Decay: 3.40e-02\n",
      "\n",
      "Validation Metrics:\n",
      "Loss: 0.3179\n",
      "Accuracy: 0.8400\n",
      "Precision: 0.8559\n",
      "Recall: 0.8400\n",
      "F1-Score: 0.8361\n",
      "\n",
      "Epoch 6/15\n",
      "------------------------------\n"
     ]
    },
    {
     "name": "stderr",
     "output_type": "stream",
     "text": [
      "Training: 100%|██████████| 85/85 [01:32<00:00,  1.08s/batch, loss=0.0276, lr=3.75e-05, wd=4.00e-02]\n"
     ]
    },
    {
     "name": "stdout",
     "output_type": "stream",
     "text": [
      "\n",
      "Training Metrics:\n",
      "Loss: 0.0202\n",
      "Precision: 0.9912\n",
      "Recall: 0.9911\n",
      "F1-Score: 0.9911\n",
      "Learning Rate: 3.75e-05\n",
      "Weight Decay: 4.00e-02\n",
      "\n",
      "Validation Metrics:\n",
      "Loss: 0.2743\n",
      "Accuracy: 0.9000\n",
      "Precision: 0.9121\n",
      "Recall: 0.9000\n",
      "F1-Score: 0.8976\n",
      "\n",
      "Saved best model for fold 1 with F1: 0.8976\n",
      "\n",
      "Epoch 7/15\n",
      "------------------------------\n"
     ]
    },
    {
     "name": "stderr",
     "output_type": "stream",
     "text": [
      "Training: 100%|██████████| 85/85 [01:30<00:00,  1.07s/batch, loss=0.0013, lr=3.22e-05, wd=4.60e-02]\n"
     ]
    },
    {
     "name": "stdout",
     "output_type": "stream",
     "text": [
      "\n",
      "Training Metrics:\n",
      "Loss: 0.0074\n",
      "Precision: 0.9971\n",
      "Recall: 0.9970\n",
      "F1-Score: 0.9970\n",
      "Learning Rate: 3.22e-05\n",
      "Weight Decay: 4.60e-02\n",
      "\n",
      "Validation Metrics:\n",
      "Loss: 0.2648\n",
      "Accuracy: 0.8867\n",
      "Precision: 0.9119\n",
      "Recall: 0.8867\n",
      "F1-Score: 0.8848\n",
      "\n",
      "Epoch 8/15\n",
      "------------------------------\n"
     ]
    },
    {
     "name": "stderr",
     "output_type": "stream",
     "text": [
      "Training: 100%|██████████| 85/85 [01:30<00:00,  1.07s/batch, loss=0.0003, lr=2.64e-05, wd=5.20e-02]\n"
     ]
    },
    {
     "name": "stdout",
     "output_type": "stream",
     "text": [
      "\n",
      "Training Metrics:\n",
      "Loss: 0.0023\n",
      "Precision: 0.9986\n",
      "Recall: 0.9985\n",
      "F1-Score: 0.9985\n",
      "Learning Rate: 2.64e-05\n",
      "Weight Decay: 5.20e-02\n",
      "\n",
      "Validation Metrics:\n",
      "Loss: 0.2528\n",
      "Accuracy: 0.9133\n",
      "Precision: 0.9275\n",
      "Recall: 0.9133\n",
      "F1-Score: 0.9116\n",
      "\n",
      "Saved best model for fold 1 with F1: 0.9116\n",
      "\n",
      "Epoch 9/15\n",
      "------------------------------\n"
     ]
    },
    {
     "name": "stderr",
     "output_type": "stream",
     "text": [
      "Training: 100%|██████████| 85/85 [01:33<00:00,  1.10s/batch, loss=0.0003, lr=2.06e-05, wd=5.80e-02]\n"
     ]
    },
    {
     "name": "stdout",
     "output_type": "stream",
     "text": [
      "\n",
      "Training Metrics:\n",
      "Loss: 0.0008\n",
      "Precision: 1.0000\n",
      "Recall: 1.0000\n",
      "F1-Score: 1.0000\n",
      "Learning Rate: 2.06e-05\n",
      "Weight Decay: 5.80e-02\n",
      "\n",
      "Validation Metrics:\n",
      "Loss: 0.2656\n",
      "Accuracy: 0.9133\n",
      "Precision: 0.9259\n",
      "Recall: 0.9133\n",
      "F1-Score: 0.9103\n",
      "\n",
      "Epoch 10/15\n",
      "------------------------------\n"
     ]
    },
    {
     "name": "stderr",
     "output_type": "stream",
     "text": [
      "Training: 100%|██████████| 85/85 [01:37<00:00,  1.15s/batch, loss=0.0002, lr=1.51e-05, wd=6.40e-02]\n"
     ]
    },
    {
     "name": "stdout",
     "output_type": "stream",
     "text": [
      "\n",
      "Training Metrics:\n",
      "Loss: 0.0005\n",
      "Precision: 1.0000\n",
      "Recall: 1.0000\n",
      "F1-Score: 1.0000\n",
      "Learning Rate: 1.51e-05\n",
      "Weight Decay: 6.40e-02\n",
      "\n",
      "Validation Metrics:\n",
      "Loss: 0.2629\n",
      "Accuracy: 0.9000\n",
      "Precision: 0.9120\n",
      "Recall: 0.9000\n",
      "F1-Score: 0.8974\n",
      "\n",
      "Epoch 11/15\n",
      "------------------------------\n"
     ]
    },
    {
     "name": "stderr",
     "output_type": "stream",
     "text": [
      "Training: 100%|██████████| 85/85 [01:37<00:00,  1.14s/batch, loss=0.0003, lr=1.01e-05, wd=7.00e-02]\n"
     ]
    },
    {
     "name": "stdout",
     "output_type": "stream",
     "text": [
      "\n",
      "Training Metrics:\n",
      "Loss: 0.0004\n",
      "Precision: 1.0000\n",
      "Recall: 1.0000\n",
      "F1-Score: 1.0000\n",
      "Learning Rate: 1.01e-05\n",
      "Weight Decay: 7.00e-02\n",
      "\n",
      "Validation Metrics:\n",
      "Loss: 0.2591\n",
      "Accuracy: 0.9133\n",
      "Precision: 0.9259\n",
      "Recall: 0.9133\n",
      "F1-Score: 0.9103\n",
      "\n",
      "Early stopping triggered\n",
      "Confusion Matrix Shape: (30, 30)\n",
      "Plots saved to plots/dbmdz_bert-base-turkish-cased/combined_metrics_fold_1.png\n",
      "Metrics for fold 1 saved to fold_metrics/dbmdz_bert-base-turkish-cased/performance_metrics_fold_1.csv\n",
      "\n",
      "Fold 1 Results:\n",
      "Loss: 0.2528\n",
      "Accuracy: 0.9133\n",
      "Precision: 0.9275\n",
      "Recall: 0.9133\n",
      "F1-Score: 0.9116\n",
      "\n",
      "Fold 2/10\n",
      "Train size: 1350, Validation size: 150\n"
     ]
    },
    {
     "name": "stderr",
     "output_type": "stream",
     "text": [
      "Some weights of BertForSequenceClassification were not initialized from the model checkpoint at dbmdz/bert-base-turkish-cased and are newly initialized: ['classifier.bias', 'classifier.weight']\n",
      "You should probably TRAIN this model on a down-stream task to be able to use it for predictions and inference.\n"
     ]
    },
    {
     "name": "stdout",
     "output_type": "stream",
     "text": [
      "\n",
      "==================================================\n",
      "Training Fold 2\n",
      "==================================================\n",
      "Total steps: 1275, Warmup steps: 127\n",
      "\n",
      "Epoch 1/15\n",
      "------------------------------\n"
     ]
    },
    {
     "name": "stderr",
     "output_type": "stream",
     "text": [
      "Training: 100%|██████████| 85/85 [01:37<00:00,  1.15s/batch, loss=2.7274, lr=3.35e-05, wd=1.00e-02]\n",
      "/Users/egebilge/anaconda3/lib/python3.11/site-packages/sklearn/metrics/_classification.py:1469: UndefinedMetricWarning: Precision is ill-defined and being set to 0.0 in labels with no predicted samples. Use `zero_division` parameter to control this behavior.\n",
      "  _warn_prf(average, modifier, msg_start, len(result))\n",
      "/Users/egebilge/anaconda3/lib/python3.11/site-packages/sklearn/metrics/_classification.py:1469: UndefinedMetricWarning: Precision is ill-defined and being set to 0.0 in labels with no predicted samples. Use `zero_division` parameter to control this behavior.\n",
      "  _warn_prf(average, modifier, msg_start, len(result))\n"
     ]
    },
    {
     "name": "stdout",
     "output_type": "stream",
     "text": [
      "\n",
      "Training Metrics:\n",
      "Loss: 3.1591\n",
      "Precision: 0.0575\n",
      "Recall: 0.0489\n",
      "F1-Score: 0.0380\n",
      "Learning Rate: 3.35e-05\n",
      "Weight Decay: 1.00e-02\n",
      "\n",
      "Validation Metrics:\n",
      "Loss: 2.5925\n",
      "Accuracy: 0.1933\n",
      "Precision: 0.0992\n",
      "Recall: 0.1933\n",
      "F1-Score: 0.1029\n",
      "\n",
      "Saved best model for fold 2 with F1: 0.1029\n",
      "\n",
      "Epoch 2/15\n",
      "------------------------------\n"
     ]
    },
    {
     "name": "stderr",
     "output_type": "stream",
     "text": [
      "Training: 100%|██████████| 85/85 [01:37<00:00,  1.15s/batch, loss=1.1857, lr=4.98e-05, wd=1.60e-02]\n",
      "/Users/egebilge/anaconda3/lib/python3.11/site-packages/sklearn/metrics/_classification.py:1469: UndefinedMetricWarning: Precision is ill-defined and being set to 0.0 in labels with no predicted samples. Use `zero_division` parameter to control this behavior.\n",
      "  _warn_prf(average, modifier, msg_start, len(result))\n"
     ]
    },
    {
     "name": "stdout",
     "output_type": "stream",
     "text": [
      "\n",
      "Training Metrics:\n",
      "Loss: 1.7969\n",
      "Precision: 0.4291\n",
      "Recall: 0.4015\n",
      "F1-Score: 0.3939\n",
      "Learning Rate: 4.98e-05\n",
      "Weight Decay: 1.60e-02\n",
      "\n",
      "Validation Metrics:\n",
      "Loss: 1.1528\n",
      "Accuracy: 0.5800\n",
      "Precision: 0.6200\n",
      "Recall: 0.5800\n",
      "F1-Score: 0.5459\n",
      "\n",
      "Saved best model for fold 2 with F1: 0.5459\n",
      "\n",
      "Epoch 3/15\n",
      "------------------------------\n"
     ]
    },
    {
     "name": "stderr",
     "output_type": "stream",
     "text": [
      "Training: 100%|██████████| 85/85 [01:37<00:00,  1.15s/batch, loss=0.9068, lr=4.85e-05, wd=2.20e-02]\n"
     ]
    },
    {
     "name": "stdout",
     "output_type": "stream",
     "text": [
      "\n",
      "Training Metrics:\n",
      "Loss: 0.5989\n",
      "Precision: 0.7729\n",
      "Recall: 0.7719\n",
      "F1-Score: 0.7685\n",
      "Learning Rate: 4.85e-05\n",
      "Weight Decay: 2.20e-02\n",
      "\n",
      "Validation Metrics:\n",
      "Loss: 0.5385\n",
      "Accuracy: 0.7267\n",
      "Precision: 0.8029\n",
      "Recall: 0.7267\n",
      "F1-Score: 0.7233\n",
      "\n",
      "Saved best model for fold 2 with F1: 0.7233\n",
      "\n",
      "Epoch 4/15\n",
      "------------------------------\n"
     ]
    },
    {
     "name": "stderr",
     "output_type": "stream",
     "text": [
      "Training: 100%|██████████| 85/85 [01:37<00:00,  1.15s/batch, loss=0.1277, lr=4.59e-05, wd=2.80e-02]\n"
     ]
    },
    {
     "name": "stdout",
     "output_type": "stream",
     "text": [
      "\n",
      "Training Metrics:\n",
      "Loss: 0.1881\n",
      "Precision: 0.9166\n",
      "Recall: 0.9170\n",
      "F1-Score: 0.9162\n",
      "Learning Rate: 4.59e-05\n",
      "Weight Decay: 2.80e-02\n",
      "\n",
      "Validation Metrics:\n",
      "Loss: 0.3505\n",
      "Accuracy: 0.8267\n",
      "Precision: 0.8699\n",
      "Recall: 0.8267\n",
      "F1-Score: 0.8222\n",
      "\n",
      "Saved best model for fold 2 with F1: 0.8222\n",
      "\n",
      "Epoch 5/15\n",
      "------------------------------\n"
     ]
    },
    {
     "name": "stderr",
     "output_type": "stream",
     "text": [
      "Training: 100%|██████████| 85/85 [01:36<00:00,  1.14s/batch, loss=0.0027, lr=4.21e-05, wd=3.40e-02]\n"
     ]
    },
    {
     "name": "stdout",
     "output_type": "stream",
     "text": [
      "\n",
      "Training Metrics:\n",
      "Loss: 0.0603\n",
      "Precision: 0.9686\n",
      "Recall: 0.9681\n",
      "F1-Score: 0.9679\n",
      "Learning Rate: 4.21e-05\n",
      "Weight Decay: 3.40e-02\n",
      "\n",
      "Validation Metrics:\n",
      "Loss: 0.2304\n",
      "Accuracy: 0.8667\n",
      "Precision: 0.8915\n",
      "Recall: 0.8667\n",
      "F1-Score: 0.8636\n",
      "\n",
      "Saved best model for fold 2 with F1: 0.8636\n",
      "\n",
      "Epoch 6/15\n",
      "------------------------------\n"
     ]
    },
    {
     "name": "stderr",
     "output_type": "stream",
     "text": [
      "Training: 100%|██████████| 85/85 [01:37<00:00,  1.15s/batch, loss=0.0044, lr=3.75e-05, wd=4.00e-02]\n"
     ]
    },
    {
     "name": "stdout",
     "output_type": "stream",
     "text": [
      "\n",
      "Training Metrics:\n",
      "Loss: 0.0184\n",
      "Precision: 0.9905\n",
      "Recall: 0.9904\n",
      "F1-Score: 0.9903\n",
      "Learning Rate: 3.75e-05\n",
      "Weight Decay: 4.00e-02\n",
      "\n",
      "Validation Metrics:\n",
      "Loss: 0.2515\n",
      "Accuracy: 0.8533\n",
      "Precision: 0.8768\n",
      "Recall: 0.8533\n",
      "F1-Score: 0.8518\n",
      "\n",
      "Epoch 7/15\n",
      "------------------------------\n"
     ]
    },
    {
     "name": "stderr",
     "output_type": "stream",
     "text": [
      "Training: 100%|██████████| 85/85 [01:38<00:00,  1.16s/batch, loss=0.0017, lr=3.22e-05, wd=4.60e-02]\n"
     ]
    },
    {
     "name": "stdout",
     "output_type": "stream",
     "text": [
      "\n",
      "Training Metrics:\n",
      "Loss: 0.0079\n",
      "Precision: 0.9935\n",
      "Recall: 0.9933\n",
      "F1-Score: 0.9933\n",
      "Learning Rate: 3.22e-05\n",
      "Weight Decay: 4.60e-02\n",
      "\n",
      "Validation Metrics:\n",
      "Loss: 0.2028\n",
      "Accuracy: 0.9000\n",
      "Precision: 0.9148\n",
      "Recall: 0.9000\n",
      "F1-Score: 0.8976\n",
      "\n",
      "Saved best model for fold 2 with F1: 0.8976\n",
      "\n",
      "Epoch 8/15\n",
      "------------------------------\n"
     ]
    },
    {
     "name": "stderr",
     "output_type": "stream",
     "text": [
      "Training: 100%|██████████| 85/85 [01:37<00:00,  1.15s/batch, loss=0.0003, lr=2.64e-05, wd=5.20e-02]\n"
     ]
    },
    {
     "name": "stdout",
     "output_type": "stream",
     "text": [
      "\n",
      "Training Metrics:\n",
      "Loss: 0.0013\n",
      "Precision: 1.0000\n",
      "Recall: 1.0000\n",
      "F1-Score: 1.0000\n",
      "Learning Rate: 2.64e-05\n",
      "Weight Decay: 5.20e-02\n",
      "\n",
      "Validation Metrics:\n",
      "Loss: 0.1703\n",
      "Accuracy: 0.9200\n",
      "Precision: 0.9326\n",
      "Recall: 0.9200\n",
      "F1-Score: 0.9177\n",
      "\n",
      "Saved best model for fold 2 with F1: 0.9177\n",
      "\n",
      "Epoch 9/15\n",
      "------------------------------\n"
     ]
    },
    {
     "name": "stderr",
     "output_type": "stream",
     "text": [
      "Training: 100%|██████████| 85/85 [01:37<00:00,  1.14s/batch, loss=0.0004, lr=2.06e-05, wd=5.80e-02]\n"
     ]
    },
    {
     "name": "stdout",
     "output_type": "stream",
     "text": [
      "\n",
      "Training Metrics:\n",
      "Loss: 0.0007\n",
      "Precision: 1.0000\n",
      "Recall: 1.0000\n",
      "F1-Score: 1.0000\n",
      "Learning Rate: 2.06e-05\n",
      "Weight Decay: 5.80e-02\n",
      "\n",
      "Validation Metrics:\n",
      "Loss: 0.1687\n",
      "Accuracy: 0.9133\n",
      "Precision: 0.9269\n",
      "Recall: 0.9133\n",
      "F1-Score: 0.9110\n",
      "\n",
      "Epoch 10/15\n",
      "------------------------------\n"
     ]
    },
    {
     "name": "stderr",
     "output_type": "stream",
     "text": [
      "Training: 100%|██████████| 85/85 [04:23<00:00,  3.10s/batch, loss=0.0003, lr=1.51e-05, wd=6.40e-02]\n"
     ]
    },
    {
     "name": "stdout",
     "output_type": "stream",
     "text": [
      "\n",
      "Training Metrics:\n",
      "Loss: 0.0004\n",
      "Precision: 1.0000\n",
      "Recall: 1.0000\n",
      "F1-Score: 1.0000\n",
      "Learning Rate: 1.51e-05\n",
      "Weight Decay: 6.40e-02\n",
      "\n",
      "Validation Metrics:\n",
      "Loss: 0.1637\n",
      "Accuracy: 0.9267\n",
      "Precision: 0.9393\n",
      "Recall: 0.9267\n",
      "F1-Score: 0.9253\n",
      "\n",
      "Saved best model for fold 2 with F1: 0.9253\n",
      "\n",
      "Epoch 11/15\n",
      "------------------------------\n"
     ]
    },
    {
     "name": "stderr",
     "output_type": "stream",
     "text": [
      "Training: 100%|██████████| 85/85 [01:32<00:00,  1.09s/batch, loss=0.0004, lr=1.01e-05, wd=7.00e-02]\n"
     ]
    },
    {
     "name": "stdout",
     "output_type": "stream",
     "text": [
      "\n",
      "Training Metrics:\n",
      "Loss: 0.0005\n",
      "Precision: 1.0000\n",
      "Recall: 1.0000\n",
      "F1-Score: 1.0000\n",
      "Learning Rate: 1.01e-05\n",
      "Weight Decay: 7.00e-02\n",
      "\n",
      "Validation Metrics:\n",
      "Loss: 0.1620\n",
      "Accuracy: 0.9267\n",
      "Precision: 0.9382\n",
      "Recall: 0.9267\n",
      "F1-Score: 0.9254\n",
      "\n",
      "Saved best model for fold 2 with F1: 0.9254\n",
      "\n",
      "Epoch 12/15\n",
      "------------------------------\n"
     ]
    },
    {
     "name": "stderr",
     "output_type": "stream",
     "text": [
      "Training: 100%|██████████| 85/85 [01:31<00:00,  1.07s/batch, loss=0.0003, lr=5.84e-06, wd=7.60e-02]\n"
     ]
    },
    {
     "name": "stdout",
     "output_type": "stream",
     "text": [
      "\n",
      "Training Metrics:\n",
      "Loss: 0.0003\n",
      "Precision: 1.0000\n",
      "Recall: 1.0000\n",
      "F1-Score: 1.0000\n",
      "Learning Rate: 5.84e-06\n",
      "Weight Decay: 7.60e-02\n",
      "\n",
      "Validation Metrics:\n",
      "Loss: 0.1607\n",
      "Accuracy: 0.9267\n",
      "Precision: 0.9382\n",
      "Recall: 0.9267\n",
      "F1-Score: 0.9254\n",
      "\n",
      "Epoch 13/15\n",
      "------------------------------\n"
     ]
    },
    {
     "name": "stderr",
     "output_type": "stream",
     "text": [
      "Training: 100%|██████████| 85/85 [01:30<00:00,  1.07s/batch, loss=0.0003, lr=2.66e-06, wd=8.20e-02]\n"
     ]
    },
    {
     "name": "stdout",
     "output_type": "stream",
     "text": [
      "\n",
      "Training Metrics:\n",
      "Loss: 0.0004\n",
      "Precision: 1.0000\n",
      "Recall: 1.0000\n",
      "F1-Score: 1.0000\n",
      "Learning Rate: 2.66e-06\n",
      "Weight Decay: 8.20e-02\n",
      "\n",
      "Validation Metrics:\n",
      "Loss: 0.1615\n",
      "Accuracy: 0.9267\n",
      "Precision: 0.9382\n",
      "Recall: 0.9267\n",
      "F1-Score: 0.9254\n",
      "\n",
      "Epoch 14/15\n",
      "------------------------------\n"
     ]
    },
    {
     "name": "stderr",
     "output_type": "stream",
     "text": [
      "Training: 100%|██████████| 85/85 [01:31<00:00,  1.07s/batch, loss=0.0003, lr=6.73e-07, wd=8.80e-02]\n"
     ]
    },
    {
     "name": "stdout",
     "output_type": "stream",
     "text": [
      "\n",
      "Training Metrics:\n",
      "Loss: 0.0003\n",
      "Precision: 1.0000\n",
      "Recall: 1.0000\n",
      "F1-Score: 1.0000\n",
      "Learning Rate: 6.73e-07\n",
      "Weight Decay: 8.80e-02\n",
      "\n",
      "Validation Metrics:\n",
      "Loss: 0.1621\n",
      "Accuracy: 0.9267\n",
      "Precision: 0.9382\n",
      "Recall: 0.9267\n",
      "F1-Score: 0.9254\n",
      "\n",
      "Early stopping triggered\n",
      "Confusion Matrix Shape: (30, 30)\n",
      "Plots saved to plots/dbmdz_bert-base-turkish-cased/combined_metrics_fold_2.png\n",
      "Metrics for fold 2 saved to fold_metrics/dbmdz_bert-base-turkish-cased/performance_metrics_fold_2.csv\n",
      "\n",
      "Fold 2 Results:\n",
      "Loss: 0.1620\n",
      "Accuracy: 0.9267\n",
      "Precision: 0.9382\n",
      "Recall: 0.9267\n",
      "F1-Score: 0.9254\n",
      "\n",
      "Fold 3/10\n",
      "Train size: 1350, Validation size: 150\n"
     ]
    },
    {
     "name": "stderr",
     "output_type": "stream",
     "text": [
      "Some weights of BertForSequenceClassification were not initialized from the model checkpoint at dbmdz/bert-base-turkish-cased and are newly initialized: ['classifier.bias', 'classifier.weight']\n",
      "You should probably TRAIN this model on a down-stream task to be able to use it for predictions and inference.\n"
     ]
    },
    {
     "name": "stdout",
     "output_type": "stream",
     "text": [
      "\n",
      "==================================================\n",
      "Training Fold 3\n",
      "==================================================\n",
      "Total steps: 1275, Warmup steps: 127\n",
      "\n",
      "Epoch 1/15\n",
      "------------------------------\n"
     ]
    },
    {
     "name": "stderr",
     "output_type": "stream",
     "text": [
      "Training: 100%|██████████| 85/85 [01:32<00:00,  1.09s/batch, loss=3.4065, lr=3.35e-05, wd=1.00e-02]\n",
      "/Users/egebilge/anaconda3/lib/python3.11/site-packages/sklearn/metrics/_classification.py:1469: UndefinedMetricWarning: Precision is ill-defined and being set to 0.0 in labels with no predicted samples. Use `zero_division` parameter to control this behavior.\n",
      "  _warn_prf(average, modifier, msg_start, len(result))\n",
      "/Users/egebilge/anaconda3/lib/python3.11/site-packages/sklearn/metrics/_classification.py:1469: UndefinedMetricWarning: Precision is ill-defined and being set to 0.0 in labels with no predicted samples. Use `zero_division` parameter to control this behavior.\n",
      "  _warn_prf(average, modifier, msg_start, len(result))\n"
     ]
    },
    {
     "name": "stdout",
     "output_type": "stream",
     "text": [
      "\n",
      "Training Metrics:\n",
      "Loss: 3.1970\n",
      "Precision: 0.0599\n",
      "Recall: 0.0430\n",
      "F1-Score: 0.0358\n",
      "Learning Rate: 3.35e-05\n",
      "Weight Decay: 1.00e-02\n",
      "\n",
      "Validation Metrics:\n",
      "Loss: 2.8732\n",
      "Accuracy: 0.1667\n",
      "Precision: 0.1111\n",
      "Recall: 0.1667\n",
      "F1-Score: 0.1016\n",
      "\n",
      "Saved best model for fold 3 with F1: 0.1016\n",
      "\n",
      "Epoch 2/15\n",
      "------------------------------\n"
     ]
    },
    {
     "name": "stderr",
     "output_type": "stream",
     "text": [
      "Training: 100%|██████████| 85/85 [01:31<00:00,  1.07s/batch, loss=0.9373, lr=4.98e-05, wd=1.60e-02]\n",
      "/Users/egebilge/anaconda3/lib/python3.11/site-packages/sklearn/metrics/_classification.py:1469: UndefinedMetricWarning: Precision is ill-defined and being set to 0.0 in labels with no predicted samples. Use `zero_division` parameter to control this behavior.\n",
      "  _warn_prf(average, modifier, msg_start, len(result))\n"
     ]
    },
    {
     "name": "stdout",
     "output_type": "stream",
     "text": [
      "\n",
      "Training Metrics:\n",
      "Loss: 1.8113\n",
      "Precision: 0.4381\n",
      "Recall: 0.4356\n",
      "F1-Score: 0.4094\n",
      "Learning Rate: 4.98e-05\n",
      "Weight Decay: 1.60e-02\n",
      "\n",
      "Validation Metrics:\n",
      "Loss: 0.9874\n",
      "Accuracy: 0.6600\n",
      "Precision: 0.6809\n",
      "Recall: 0.6600\n",
      "F1-Score: 0.6349\n",
      "\n",
      "Saved best model for fold 3 with F1: 0.6349\n",
      "\n",
      "Epoch 3/15\n",
      "------------------------------\n"
     ]
    },
    {
     "name": "stderr",
     "output_type": "stream",
     "text": [
      "Training: 100%|██████████| 85/85 [01:31<00:00,  1.07s/batch, loss=0.4803, lr=4.85e-05, wd=2.20e-02]\n",
      "/Users/egebilge/anaconda3/lib/python3.11/site-packages/sklearn/metrics/_classification.py:1469: UndefinedMetricWarning: Precision is ill-defined and being set to 0.0 in labels with no predicted samples. Use `zero_division` parameter to control this behavior.\n",
      "  _warn_prf(average, modifier, msg_start, len(result))\n"
     ]
    },
    {
     "name": "stdout",
     "output_type": "stream",
     "text": [
      "\n",
      "Training Metrics:\n",
      "Loss: 0.5673\n",
      "Precision: 0.7654\n",
      "Recall: 0.7711\n",
      "F1-Score: 0.7657\n",
      "Learning Rate: 4.85e-05\n",
      "Weight Decay: 2.20e-02\n",
      "\n",
      "Validation Metrics:\n",
      "Loss: 0.6606\n",
      "Accuracy: 0.6933\n",
      "Precision: 0.7589\n",
      "Recall: 0.6933\n",
      "F1-Score: 0.6881\n",
      "\n",
      "Saved best model for fold 3 with F1: 0.6881\n",
      "\n",
      "Epoch 4/15\n",
      "------------------------------\n"
     ]
    },
    {
     "name": "stderr",
     "output_type": "stream",
     "text": [
      "Training: 100%|██████████| 85/85 [01:38<00:00,  1.15s/batch, loss=0.0690, lr=4.59e-05, wd=2.80e-02]\n",
      "/Users/egebilge/anaconda3/lib/python3.11/site-packages/sklearn/metrics/_classification.py:1469: UndefinedMetricWarning: Precision is ill-defined and being set to 0.0 in labels with no predicted samples. Use `zero_division` parameter to control this behavior.\n",
      "  _warn_prf(average, modifier, msg_start, len(result))\n"
     ]
    },
    {
     "name": "stdout",
     "output_type": "stream",
     "text": [
      "\n",
      "Training Metrics:\n",
      "Loss: 0.2004\n",
      "Precision: 0.9103\n",
      "Recall: 0.9096\n",
      "F1-Score: 0.9094\n",
      "Learning Rate: 4.59e-05\n",
      "Weight Decay: 2.80e-02\n",
      "\n",
      "Validation Metrics:\n",
      "Loss: 0.4735\n",
      "Accuracy: 0.8067\n",
      "Precision: 0.8239\n",
      "Recall: 0.8067\n",
      "F1-Score: 0.7883\n",
      "\n",
      "Saved best model for fold 3 with F1: 0.7883\n",
      "\n",
      "Epoch 5/15\n",
      "------------------------------\n"
     ]
    },
    {
     "name": "stderr",
     "output_type": "stream",
     "text": [
      "Training: 100%|██████████| 85/85 [01:37<00:00,  1.14s/batch, loss=0.0737, lr=4.21e-05, wd=3.40e-02]\n"
     ]
    },
    {
     "name": "stdout",
     "output_type": "stream",
     "text": [
      "\n",
      "Training Metrics:\n",
      "Loss: 0.0846\n",
      "Precision: 0.9503\n",
      "Recall: 0.9504\n",
      "F1-Score: 0.9501\n",
      "Learning Rate: 4.21e-05\n",
      "Weight Decay: 3.40e-02\n",
      "\n",
      "Validation Metrics:\n",
      "Loss: 0.4283\n",
      "Accuracy: 0.8200\n",
      "Precision: 0.8397\n",
      "Recall: 0.8200\n",
      "F1-Score: 0.8096\n",
      "\n",
      "Saved best model for fold 3 with F1: 0.8096\n",
      "\n",
      "Epoch 6/15\n",
      "------------------------------\n"
     ]
    },
    {
     "name": "stderr",
     "output_type": "stream",
     "text": [
      "Training: 100%|██████████| 85/85 [01:37<00:00,  1.15s/batch, loss=0.0331, lr=3.75e-05, wd=4.00e-02]\n"
     ]
    },
    {
     "name": "stdout",
     "output_type": "stream",
     "text": [
      "\n",
      "Training Metrics:\n",
      "Loss: 0.0187\n",
      "Precision: 0.9906\n",
      "Recall: 0.9904\n",
      "F1-Score: 0.9904\n",
      "Learning Rate: 3.75e-05\n",
      "Weight Decay: 4.00e-02\n",
      "\n",
      "Validation Metrics:\n",
      "Loss: 0.4351\n",
      "Accuracy: 0.8267\n",
      "Precision: 0.8402\n",
      "Recall: 0.8267\n",
      "F1-Score: 0.8138\n",
      "\n",
      "Saved best model for fold 3 with F1: 0.8138\n",
      "\n",
      "Epoch 7/15\n",
      "------------------------------\n"
     ]
    },
    {
     "name": "stderr",
     "output_type": "stream",
     "text": [
      "Training: 100%|██████████| 85/85 [01:37<00:00,  1.15s/batch, loss=0.0004, lr=3.22e-05, wd=4.60e-02]\n"
     ]
    },
    {
     "name": "stdout",
     "output_type": "stream",
     "text": [
      "\n",
      "Training Metrics:\n",
      "Loss: 0.0056\n",
      "Precision: 0.9986\n",
      "Recall: 0.9985\n",
      "F1-Score: 0.9985\n",
      "Learning Rate: 3.22e-05\n",
      "Weight Decay: 4.60e-02\n",
      "\n",
      "Validation Metrics:\n",
      "Loss: 0.3468\n",
      "Accuracy: 0.8467\n",
      "Precision: 0.8760\n",
      "Recall: 0.8467\n",
      "F1-Score: 0.8365\n",
      "\n",
      "Saved best model for fold 3 with F1: 0.8365\n",
      "\n",
      "Epoch 8/15\n",
      "------------------------------\n"
     ]
    },
    {
     "name": "stderr",
     "output_type": "stream",
     "text": [
      "Training: 100%|██████████| 85/85 [01:37<00:00,  1.15s/batch, loss=0.0003, lr=2.64e-05, wd=5.20e-02]\n"
     ]
    },
    {
     "name": "stdout",
     "output_type": "stream",
     "text": [
      "\n",
      "Training Metrics:\n",
      "Loss: 0.0014\n",
      "Precision: 0.9993\n",
      "Recall: 0.9993\n",
      "F1-Score: 0.9993\n",
      "Learning Rate: 2.64e-05\n",
      "Weight Decay: 5.20e-02\n",
      "\n",
      "Validation Metrics:\n",
      "Loss: 0.3399\n",
      "Accuracy: 0.8667\n",
      "Precision: 0.8768\n",
      "Recall: 0.8667\n",
      "F1-Score: 0.8595\n",
      "\n",
      "Saved best model for fold 3 with F1: 0.8595\n",
      "\n",
      "Epoch 9/15\n",
      "------------------------------\n"
     ]
    },
    {
     "name": "stderr",
     "output_type": "stream",
     "text": [
      "Training: 100%|██████████| 85/85 [01:36<00:00,  1.14s/batch, loss=0.0007, lr=2.06e-05, wd=5.80e-02]\n"
     ]
    },
    {
     "name": "stdout",
     "output_type": "stream",
     "text": [
      "\n",
      "Training Metrics:\n",
      "Loss: 0.0006\n",
      "Precision: 1.0000\n",
      "Recall: 1.0000\n",
      "F1-Score: 1.0000\n",
      "Learning Rate: 2.06e-05\n",
      "Weight Decay: 5.80e-02\n",
      "\n",
      "Validation Metrics:\n",
      "Loss: 0.3527\n",
      "Accuracy: 0.8733\n",
      "Precision: 0.8879\n",
      "Recall: 0.8733\n",
      "F1-Score: 0.8706\n",
      "\n",
      "Saved best model for fold 3 with F1: 0.8706\n",
      "\n",
      "Epoch 10/15\n",
      "------------------------------\n"
     ]
    },
    {
     "name": "stderr",
     "output_type": "stream",
     "text": [
      "Training: 100%|██████████| 85/85 [01:37<00:00,  1.15s/batch, loss=0.0002, lr=1.51e-05, wd=6.40e-02]\n"
     ]
    },
    {
     "name": "stdout",
     "output_type": "stream",
     "text": [
      "\n",
      "Training Metrics:\n",
      "Loss: 0.0005\n",
      "Precision: 1.0000\n",
      "Recall: 1.0000\n",
      "F1-Score: 1.0000\n",
      "Learning Rate: 1.51e-05\n",
      "Weight Decay: 6.40e-02\n",
      "\n",
      "Validation Metrics:\n",
      "Loss: 0.3472\n",
      "Accuracy: 0.8667\n",
      "Precision: 0.8790\n",
      "Recall: 0.8667\n",
      "F1-Score: 0.8633\n",
      "\n",
      "Epoch 11/15\n",
      "------------------------------\n"
     ]
    },
    {
     "name": "stderr",
     "output_type": "stream",
     "text": [
      "Training: 100%|██████████| 85/85 [01:37<00:00,  1.14s/batch, loss=0.0003, lr=1.01e-05, wd=7.00e-02]\n"
     ]
    },
    {
     "name": "stdout",
     "output_type": "stream",
     "text": [
      "\n",
      "Training Metrics:\n",
      "Loss: 0.0011\n",
      "Precision: 0.9993\n",
      "Recall: 0.9993\n",
      "F1-Score: 0.9993\n",
      "Learning Rate: 1.01e-05\n",
      "Weight Decay: 7.00e-02\n",
      "\n",
      "Validation Metrics:\n",
      "Loss: 0.3501\n",
      "Accuracy: 0.8733\n",
      "Precision: 0.8912\n",
      "Recall: 0.8733\n",
      "F1-Score: 0.8702\n",
      "\n",
      "Epoch 12/15\n",
      "------------------------------\n"
     ]
    },
    {
     "name": "stderr",
     "output_type": "stream",
     "text": [
      "Training: 100%|██████████| 85/85 [01:37<00:00,  1.15s/batch, loss=0.0002, lr=5.84e-06, wd=7.60e-02]\n"
     ]
    },
    {
     "name": "stdout",
     "output_type": "stream",
     "text": [
      "\n",
      "Training Metrics:\n",
      "Loss: 0.0004\n",
      "Precision: 1.0000\n",
      "Recall: 1.0000\n",
      "F1-Score: 1.0000\n",
      "Learning Rate: 5.84e-06\n",
      "Weight Decay: 7.60e-02\n",
      "\n",
      "Validation Metrics:\n",
      "Loss: 0.3509\n",
      "Accuracy: 0.8667\n",
      "Precision: 0.8813\n",
      "Recall: 0.8667\n",
      "F1-Score: 0.8638\n",
      "\n",
      "Early stopping triggered\n",
      "Confusion Matrix Shape: (30, 30)\n",
      "Plots saved to plots/dbmdz_bert-base-turkish-cased/combined_metrics_fold_3.png\n",
      "Metrics for fold 3 saved to fold_metrics/dbmdz_bert-base-turkish-cased/performance_metrics_fold_3.csv\n",
      "\n",
      "Fold 3 Results:\n",
      "Loss: 0.3527\n",
      "Accuracy: 0.8733\n",
      "Precision: 0.8879\n",
      "Recall: 0.8733\n",
      "F1-Score: 0.8706\n",
      "\n",
      "Fold 4/10\n",
      "Train size: 1350, Validation size: 150\n"
     ]
    },
    {
     "name": "stderr",
     "output_type": "stream",
     "text": [
      "Some weights of BertForSequenceClassification were not initialized from the model checkpoint at dbmdz/bert-base-turkish-cased and are newly initialized: ['classifier.bias', 'classifier.weight']\n",
      "You should probably TRAIN this model on a down-stream task to be able to use it for predictions and inference.\n"
     ]
    },
    {
     "name": "stdout",
     "output_type": "stream",
     "text": [
      "\n",
      "==================================================\n",
      "Training Fold 4\n",
      "==================================================\n",
      "Total steps: 1275, Warmup steps: 127\n",
      "\n",
      "Epoch 1/15\n",
      "------------------------------\n"
     ]
    },
    {
     "name": "stderr",
     "output_type": "stream",
     "text": [
      "Training: 100%|██████████| 85/85 [01:37<00:00,  1.15s/batch, loss=2.6691, lr=3.35e-05, wd=1.00e-02]\n",
      "/Users/egebilge/anaconda3/lib/python3.11/site-packages/sklearn/metrics/_classification.py:1469: UndefinedMetricWarning: Precision is ill-defined and being set to 0.0 in labels with no predicted samples. Use `zero_division` parameter to control this behavior.\n",
      "  _warn_prf(average, modifier, msg_start, len(result))\n",
      "/Users/egebilge/anaconda3/lib/python3.11/site-packages/sklearn/metrics/_classification.py:1469: UndefinedMetricWarning: Precision is ill-defined and being set to 0.0 in labels with no predicted samples. Use `zero_division` parameter to control this behavior.\n",
      "  _warn_prf(average, modifier, msg_start, len(result))\n"
     ]
    },
    {
     "name": "stdout",
     "output_type": "stream",
     "text": [
      "\n",
      "Training Metrics:\n",
      "Loss: 3.1434\n",
      "Precision: 0.0958\n",
      "Recall: 0.0607\n",
      "F1-Score: 0.0497\n",
      "Learning Rate: 3.35e-05\n",
      "Weight Decay: 1.00e-02\n",
      "\n",
      "Validation Metrics:\n",
      "Loss: 2.7482\n",
      "Accuracy: 0.1800\n",
      "Precision: 0.1028\n",
      "Recall: 0.1800\n",
      "F1-Score: 0.1078\n",
      "\n",
      "Saved best model for fold 4 with F1: 0.1078\n",
      "\n",
      "Epoch 2/15\n",
      "------------------------------\n"
     ]
    },
    {
     "name": "stderr",
     "output_type": "stream",
     "text": [
      "Training: 100%|██████████| 85/85 [01:37<00:00,  1.15s/batch, loss=0.7483, lr=4.98e-05, wd=1.60e-02]\n",
      "/Users/egebilge/anaconda3/lib/python3.11/site-packages/sklearn/metrics/_classification.py:1469: UndefinedMetricWarning: Precision is ill-defined and being set to 0.0 in labels with no predicted samples. Use `zero_division` parameter to control this behavior.\n",
      "  _warn_prf(average, modifier, msg_start, len(result))\n"
     ]
    },
    {
     "name": "stdout",
     "output_type": "stream",
     "text": [
      "\n",
      "Training Metrics:\n",
      "Loss: 1.6820\n",
      "Precision: 0.4682\n",
      "Recall: 0.4489\n",
      "F1-Score: 0.4316\n",
      "Learning Rate: 4.98e-05\n",
      "Weight Decay: 1.60e-02\n",
      "\n",
      "Validation Metrics:\n",
      "Loss: 0.8310\n",
      "Accuracy: 0.7067\n",
      "Precision: 0.7405\n",
      "Recall: 0.7067\n",
      "F1-Score: 0.6880\n",
      "\n",
      "Saved best model for fold 4 with F1: 0.6880\n",
      "\n",
      "Epoch 3/15\n",
      "------------------------------\n"
     ]
    },
    {
     "name": "stderr",
     "output_type": "stream",
     "text": [
      "Training: 100%|██████████| 85/85 [01:37<00:00,  1.15s/batch, loss=0.5670, lr=4.85e-05, wd=2.20e-02]\n",
      "/Users/egebilge/anaconda3/lib/python3.11/site-packages/sklearn/metrics/_classification.py:1469: UndefinedMetricWarning: Precision is ill-defined and being set to 0.0 in labels with no predicted samples. Use `zero_division` parameter to control this behavior.\n",
      "  _warn_prf(average, modifier, msg_start, len(result))\n"
     ]
    },
    {
     "name": "stdout",
     "output_type": "stream",
     "text": [
      "\n",
      "Training Metrics:\n",
      "Loss: 0.5008\n",
      "Precision: 0.8068\n",
      "Recall: 0.8052\n",
      "F1-Score: 0.8010\n",
      "Learning Rate: 4.85e-05\n",
      "Weight Decay: 2.20e-02\n",
      "\n",
      "Validation Metrics:\n",
      "Loss: 0.4268\n",
      "Accuracy: 0.8133\n",
      "Precision: 0.8415\n",
      "Recall: 0.8133\n",
      "F1-Score: 0.8055\n",
      "\n",
      "Saved best model for fold 4 with F1: 0.8055\n",
      "\n",
      "Epoch 4/15\n",
      "------------------------------\n"
     ]
    },
    {
     "name": "stderr",
     "output_type": "stream",
     "text": [
      "Training: 100%|██████████| 85/85 [01:38<00:00,  1.15s/batch, loss=0.1412, lr=4.59e-05, wd=2.80e-02]\n"
     ]
    },
    {
     "name": "stdout",
     "output_type": "stream",
     "text": [
      "\n",
      "Training Metrics:\n",
      "Loss: 0.1641\n",
      "Precision: 0.9315\n",
      "Recall: 0.9296\n",
      "F1-Score: 0.9298\n",
      "Learning Rate: 4.59e-05\n",
      "Weight Decay: 2.80e-02\n",
      "\n",
      "Validation Metrics:\n",
      "Loss: 0.3877\n",
      "Accuracy: 0.7800\n",
      "Precision: 0.8413\n",
      "Recall: 0.7800\n",
      "F1-Score: 0.7739\n",
      "\n",
      "Epoch 5/15\n",
      "------------------------------\n"
     ]
    },
    {
     "name": "stderr",
     "output_type": "stream",
     "text": [
      "Training: 100%|██████████| 85/85 [01:39<00:00,  1.17s/batch, loss=0.0052, lr=4.21e-05, wd=3.40e-02]\n"
     ]
    },
    {
     "name": "stdout",
     "output_type": "stream",
     "text": [
      "\n",
      "Training Metrics:\n",
      "Loss: 0.0583\n",
      "Precision: 0.9688\n",
      "Recall: 0.9689\n",
      "F1-Score: 0.9686\n",
      "Learning Rate: 4.21e-05\n",
      "Weight Decay: 3.40e-02\n",
      "\n",
      "Validation Metrics:\n",
      "Loss: 0.3343\n",
      "Accuracy: 0.8467\n",
      "Precision: 0.8900\n",
      "Recall: 0.8467\n",
      "F1-Score: 0.8436\n",
      "\n",
      "Saved best model for fold 4 with F1: 0.8436\n",
      "\n",
      "Epoch 6/15\n",
      "------------------------------\n"
     ]
    },
    {
     "name": "stderr",
     "output_type": "stream",
     "text": [
      "Training: 100%|██████████| 85/85 [01:37<00:00,  1.15s/batch, loss=0.0017, lr=3.75e-05, wd=4.00e-02]\n"
     ]
    },
    {
     "name": "stdout",
     "output_type": "stream",
     "text": [
      "\n",
      "Training Metrics:\n",
      "Loss: 0.0287\n",
      "Precision: 0.9868\n",
      "Recall: 0.9867\n",
      "F1-Score: 0.9866\n",
      "Learning Rate: 3.75e-05\n",
      "Weight Decay: 4.00e-02\n",
      "\n",
      "Validation Metrics:\n",
      "Loss: 0.2606\n",
      "Accuracy: 0.8867\n",
      "Precision: 0.9088\n",
      "Recall: 0.8867\n",
      "F1-Score: 0.8842\n",
      "\n",
      "Saved best model for fold 4 with F1: 0.8842\n",
      "\n",
      "Epoch 7/15\n",
      "------------------------------\n"
     ]
    },
    {
     "name": "stderr",
     "output_type": "stream",
     "text": [
      "Training: 100%|██████████| 85/85 [01:37<00:00,  1.15s/batch, loss=0.0011, lr=3.22e-05, wd=4.60e-02]\n"
     ]
    },
    {
     "name": "stdout",
     "output_type": "stream",
     "text": [
      "\n",
      "Training Metrics:\n",
      "Loss: 0.0093\n",
      "Precision: 0.9942\n",
      "Recall: 0.9941\n",
      "F1-Score: 0.9941\n",
      "Learning Rate: 3.22e-05\n",
      "Weight Decay: 4.60e-02\n",
      "\n",
      "Validation Metrics:\n",
      "Loss: 0.2536\n",
      "Accuracy: 0.8933\n",
      "Precision: 0.9102\n",
      "Recall: 0.8933\n",
      "F1-Score: 0.8917\n",
      "\n",
      "Saved best model for fold 4 with F1: 0.8917\n",
      "\n",
      "Epoch 8/15\n",
      "------------------------------\n"
     ]
    },
    {
     "name": "stderr",
     "output_type": "stream",
     "text": [
      "Training: 100%|██████████| 85/85 [01:36<00:00,  1.14s/batch, loss=0.0006, lr=2.64e-05, wd=5.20e-02]\n"
     ]
    },
    {
     "name": "stdout",
     "output_type": "stream",
     "text": [
      "\n",
      "Training Metrics:\n",
      "Loss: 0.0015\n",
      "Precision: 0.9993\n",
      "Recall: 0.9993\n",
      "F1-Score: 0.9993\n",
      "Learning Rate: 2.64e-05\n",
      "Weight Decay: 5.20e-02\n",
      "\n",
      "Validation Metrics:\n",
      "Loss: 0.2168\n",
      "Accuracy: 0.9200\n",
      "Precision: 0.9353\n",
      "Recall: 0.9200\n",
      "F1-Score: 0.9179\n",
      "\n",
      "Saved best model for fold 4 with F1: 0.9179\n",
      "\n",
      "Epoch 9/15\n",
      "------------------------------\n"
     ]
    },
    {
     "name": "stderr",
     "output_type": "stream",
     "text": [
      "Training: 100%|██████████| 85/85 [01:37<00:00,  1.14s/batch, loss=0.0004, lr=2.06e-05, wd=5.80e-02]\n"
     ]
    },
    {
     "name": "stdout",
     "output_type": "stream",
     "text": [
      "\n",
      "Training Metrics:\n",
      "Loss: 0.0006\n",
      "Precision: 1.0000\n",
      "Recall: 1.0000\n",
      "F1-Score: 1.0000\n",
      "Learning Rate: 2.06e-05\n",
      "Weight Decay: 5.80e-02\n",
      "\n",
      "Validation Metrics:\n",
      "Loss: 0.2810\n",
      "Accuracy: 0.8800\n",
      "Precision: 0.9039\n",
      "Recall: 0.8800\n",
      "F1-Score: 0.8796\n",
      "\n",
      "Epoch 10/15\n",
      "------------------------------\n"
     ]
    },
    {
     "name": "stderr",
     "output_type": "stream",
     "text": [
      "Training: 100%|██████████| 85/85 [01:37<00:00,  1.15s/batch, loss=0.0003, lr=1.51e-05, wd=6.40e-02]\n"
     ]
    },
    {
     "name": "stdout",
     "output_type": "stream",
     "text": [
      "\n",
      "Training Metrics:\n",
      "Loss: 0.0004\n",
      "Precision: 1.0000\n",
      "Recall: 1.0000\n",
      "F1-Score: 1.0000\n",
      "Learning Rate: 1.51e-05\n",
      "Weight Decay: 6.40e-02\n",
      "\n",
      "Validation Metrics:\n",
      "Loss: 0.2264\n",
      "Accuracy: 0.9000\n",
      "Precision: 0.9185\n",
      "Recall: 0.9000\n",
      "F1-Score: 0.9014\n",
      "\n",
      "Epoch 11/15\n",
      "------------------------------\n"
     ]
    },
    {
     "name": "stderr",
     "output_type": "stream",
     "text": [
      "Training: 100%|██████████| 85/85 [01:36<00:00,  1.14s/batch, loss=0.0002, lr=1.01e-05, wd=7.00e-02]\n"
     ]
    },
    {
     "name": "stdout",
     "output_type": "stream",
     "text": [
      "\n",
      "Training Metrics:\n",
      "Loss: 0.0003\n",
      "Precision: 1.0000\n",
      "Recall: 1.0000\n",
      "F1-Score: 1.0000\n",
      "Learning Rate: 1.01e-05\n",
      "Weight Decay: 7.00e-02\n",
      "\n",
      "Validation Metrics:\n",
      "Loss: 0.2187\n",
      "Accuracy: 0.9067\n",
      "Precision: 0.9219\n",
      "Recall: 0.9067\n",
      "F1-Score: 0.9078\n",
      "\n",
      "Early stopping triggered\n",
      "Confusion Matrix Shape: (30, 30)\n",
      "Plots saved to plots/dbmdz_bert-base-turkish-cased/combined_metrics_fold_4.png\n",
      "Metrics for fold 4 saved to fold_metrics/dbmdz_bert-base-turkish-cased/performance_metrics_fold_4.csv\n",
      "\n",
      "Fold 4 Results:\n",
      "Loss: 0.2168\n",
      "Accuracy: 0.9200\n",
      "Precision: 0.9353\n",
      "Recall: 0.9200\n",
      "F1-Score: 0.9179\n",
      "\n",
      "Fold 5/10\n",
      "Train size: 1350, Validation size: 150\n"
     ]
    },
    {
     "name": "stderr",
     "output_type": "stream",
     "text": [
      "Some weights of BertForSequenceClassification were not initialized from the model checkpoint at dbmdz/bert-base-turkish-cased and are newly initialized: ['classifier.bias', 'classifier.weight']\n",
      "You should probably TRAIN this model on a down-stream task to be able to use it for predictions and inference.\n"
     ]
    },
    {
     "name": "stdout",
     "output_type": "stream",
     "text": [
      "\n",
      "==================================================\n",
      "Training Fold 5\n",
      "==================================================\n",
      "Total steps: 1275, Warmup steps: 127\n",
      "\n",
      "Epoch 1/15\n",
      "------------------------------\n"
     ]
    },
    {
     "name": "stderr",
     "output_type": "stream",
     "text": [
      "Training: 100%|██████████| 85/85 [01:37<00:00,  1.15s/batch, loss=2.7632, lr=3.35e-05, wd=1.00e-02]\n",
      "/Users/egebilge/anaconda3/lib/python3.11/site-packages/sklearn/metrics/_classification.py:1469: UndefinedMetricWarning: Precision is ill-defined and being set to 0.0 in labels with no predicted samples. Use `zero_division` parameter to control this behavior.\n",
      "  _warn_prf(average, modifier, msg_start, len(result))\n"
     ]
    },
    {
     "name": "stdout",
     "output_type": "stream",
     "text": [
      "\n",
      "Training Metrics:\n",
      "Loss: 3.1719\n",
      "Precision: 0.0982\n",
      "Recall: 0.0593\n",
      "F1-Score: 0.0551\n",
      "Learning Rate: 3.35e-05\n",
      "Weight Decay: 1.00e-02\n",
      "\n",
      "Validation Metrics:\n",
      "Loss: 2.8898\n",
      "Accuracy: 0.2000\n",
      "Precision: 0.1044\n",
      "Recall: 0.2000\n",
      "F1-Score: 0.1101\n",
      "\n",
      "Saved best model for fold 5 with F1: 0.1101\n",
      "\n",
      "Epoch 2/15\n",
      "------------------------------\n"
     ]
    },
    {
     "name": "stderr",
     "output_type": "stream",
     "text": [
      "Training: 100%|██████████| 85/85 [01:37<00:00,  1.14s/batch, loss=1.1265, lr=4.98e-05, wd=1.60e-02]\n",
      "/Users/egebilge/anaconda3/lib/python3.11/site-packages/sklearn/metrics/_classification.py:1469: UndefinedMetricWarning: Precision is ill-defined and being set to 0.0 in labels with no predicted samples. Use `zero_division` parameter to control this behavior.\n",
      "  _warn_prf(average, modifier, msg_start, len(result))\n"
     ]
    },
    {
     "name": "stdout",
     "output_type": "stream",
     "text": [
      "\n",
      "Training Metrics:\n",
      "Loss: 1.9065\n",
      "Precision: 0.3833\n",
      "Recall: 0.3719\n",
      "F1-Score: 0.3631\n",
      "Learning Rate: 4.98e-05\n",
      "Weight Decay: 1.60e-02\n",
      "\n",
      "Validation Metrics:\n",
      "Loss: 1.0083\n",
      "Accuracy: 0.6333\n",
      "Precision: 0.6699\n",
      "Recall: 0.6333\n",
      "F1-Score: 0.6101\n",
      "\n",
      "Saved best model for fold 5 with F1: 0.6101\n",
      "\n",
      "Epoch 3/15\n",
      "------------------------------\n"
     ]
    },
    {
     "name": "stderr",
     "output_type": "stream",
     "text": [
      "Training: 100%|██████████| 85/85 [01:37<00:00,  1.15s/batch, loss=0.3564, lr=4.85e-05, wd=2.20e-02]\n",
      "/Users/egebilge/anaconda3/lib/python3.11/site-packages/sklearn/metrics/_classification.py:1469: UndefinedMetricWarning: Precision is ill-defined and being set to 0.0 in labels with no predicted samples. Use `zero_division` parameter to control this behavior.\n",
      "  _warn_prf(average, modifier, msg_start, len(result))\n"
     ]
    },
    {
     "name": "stdout",
     "output_type": "stream",
     "text": [
      "\n",
      "Training Metrics:\n",
      "Loss: 0.6238\n",
      "Precision: 0.7641\n",
      "Recall: 0.7630\n",
      "F1-Score: 0.7583\n",
      "Learning Rate: 4.85e-05\n",
      "Weight Decay: 2.20e-02\n",
      "\n",
      "Validation Metrics:\n",
      "Loss: 0.5506\n",
      "Accuracy: 0.7333\n",
      "Precision: 0.7454\n",
      "Recall: 0.7333\n",
      "F1-Score: 0.7170\n",
      "\n",
      "Saved best model for fold 5 with F1: 0.7170\n",
      "\n",
      "Epoch 4/15\n",
      "------------------------------\n"
     ]
    },
    {
     "name": "stderr",
     "output_type": "stream",
     "text": [
      "Training: 100%|██████████| 85/85 [01:37<00:00,  1.15s/batch, loss=0.0685, lr=4.59e-05, wd=2.80e-02]\n"
     ]
    },
    {
     "name": "stdout",
     "output_type": "stream",
     "text": [
      "\n",
      "Training Metrics:\n",
      "Loss: 0.1949\n",
      "Precision: 0.9114\n",
      "Recall: 0.9104\n",
      "F1-Score: 0.9102\n",
      "Learning Rate: 4.59e-05\n",
      "Weight Decay: 2.80e-02\n",
      "\n",
      "Validation Metrics:\n",
      "Loss: 0.3468\n",
      "Accuracy: 0.7867\n",
      "Precision: 0.8080\n",
      "Recall: 0.7867\n",
      "F1-Score: 0.7838\n",
      "\n",
      "Saved best model for fold 5 with F1: 0.7838\n",
      "\n",
      "Epoch 5/15\n",
      "------------------------------\n"
     ]
    },
    {
     "name": "stderr",
     "output_type": "stream",
     "text": [
      "Training: 100%|██████████| 85/85 [01:36<00:00,  1.14s/batch, loss=0.0064, lr=4.21e-05, wd=3.40e-02]\n"
     ]
    },
    {
     "name": "stdout",
     "output_type": "stream",
     "text": [
      "\n",
      "Training Metrics:\n",
      "Loss: 0.0640\n",
      "Precision: 0.9707\n",
      "Recall: 0.9704\n",
      "F1-Score: 0.9703\n",
      "Learning Rate: 4.21e-05\n",
      "Weight Decay: 3.40e-02\n",
      "\n",
      "Validation Metrics:\n",
      "Loss: 0.3595\n",
      "Accuracy: 0.8133\n",
      "Precision: 0.8556\n",
      "Recall: 0.8133\n",
      "F1-Score: 0.8069\n",
      "\n",
      "Saved best model for fold 5 with F1: 0.8069\n",
      "\n",
      "Epoch 6/15\n",
      "------------------------------\n"
     ]
    },
    {
     "name": "stderr",
     "output_type": "stream",
     "text": [
      "Training: 100%|██████████| 85/85 [01:37<00:00,  1.14s/batch, loss=0.0366, lr=3.75e-05, wd=4.00e-02]\n"
     ]
    },
    {
     "name": "stdout",
     "output_type": "stream",
     "text": [
      "\n",
      "Training Metrics:\n",
      "Loss: 0.0208\n",
      "Precision: 0.9890\n",
      "Recall: 0.9889\n",
      "F1-Score: 0.9889\n",
      "Learning Rate: 3.75e-05\n",
      "Weight Decay: 4.00e-02\n",
      "\n",
      "Validation Metrics:\n",
      "Loss: 0.3302\n",
      "Accuracy: 0.8267\n",
      "Precision: 0.8616\n",
      "Recall: 0.8267\n",
      "F1-Score: 0.8178\n",
      "\n",
      "Saved best model for fold 5 with F1: 0.8178\n",
      "\n",
      "Epoch 7/15\n",
      "------------------------------\n"
     ]
    },
    {
     "name": "stderr",
     "output_type": "stream",
     "text": [
      "Training: 100%|██████████| 85/85 [01:37<00:00,  1.14s/batch, loss=0.0012, lr=3.22e-05, wd=4.60e-02]\n"
     ]
    },
    {
     "name": "stdout",
     "output_type": "stream",
     "text": [
      "\n",
      "Training Metrics:\n",
      "Loss: 0.0030\n",
      "Precision: 0.9993\n",
      "Recall: 0.9993\n",
      "F1-Score: 0.9993\n",
      "Learning Rate: 3.22e-05\n",
      "Weight Decay: 4.60e-02\n",
      "\n",
      "Validation Metrics:\n",
      "Loss: 0.2456\n",
      "Accuracy: 0.8867\n",
      "Precision: 0.9012\n",
      "Recall: 0.8867\n",
      "F1-Score: 0.8824\n",
      "\n",
      "Saved best model for fold 5 with F1: 0.8824\n",
      "\n",
      "Epoch 8/15\n",
      "------------------------------\n"
     ]
    },
    {
     "name": "stderr",
     "output_type": "stream",
     "text": [
      "Training: 100%|██████████| 85/85 [01:37<00:00,  1.15s/batch, loss=0.0005, lr=2.64e-05, wd=5.20e-02]\n"
     ]
    },
    {
     "name": "stdout",
     "output_type": "stream",
     "text": [
      "\n",
      "Training Metrics:\n",
      "Loss: 0.0009\n",
      "Precision: 1.0000\n",
      "Recall: 1.0000\n",
      "F1-Score: 1.0000\n",
      "Learning Rate: 2.64e-05\n",
      "Weight Decay: 5.20e-02\n",
      "\n",
      "Validation Metrics:\n",
      "Loss: 0.2319\n",
      "Accuracy: 0.9000\n",
      "Precision: 0.9038\n",
      "Recall: 0.9000\n",
      "F1-Score: 0.8956\n",
      "\n",
      "Saved best model for fold 5 with F1: 0.8956\n",
      "\n",
      "Epoch 9/15\n",
      "------------------------------\n"
     ]
    },
    {
     "name": "stderr",
     "output_type": "stream",
     "text": [
      "Training: 100%|██████████| 85/85 [01:37<00:00,  1.14s/batch, loss=0.0005, lr=2.06e-05, wd=5.80e-02]\n"
     ]
    },
    {
     "name": "stdout",
     "output_type": "stream",
     "text": [
      "\n",
      "Training Metrics:\n",
      "Loss: 0.0018\n",
      "Precision: 0.9993\n",
      "Recall: 0.9993\n",
      "F1-Score: 0.9993\n",
      "Learning Rate: 2.06e-05\n",
      "Weight Decay: 5.80e-02\n",
      "\n",
      "Validation Metrics:\n",
      "Loss: 0.2554\n",
      "Accuracy: 0.8867\n",
      "Precision: 0.8910\n",
      "Recall: 0.8867\n",
      "F1-Score: 0.8821\n",
      "\n",
      "Epoch 10/15\n",
      "------------------------------\n"
     ]
    },
    {
     "name": "stderr",
     "output_type": "stream",
     "text": [
      "Training: 100%|██████████| 85/85 [01:37<00:00,  1.15s/batch, loss=0.0002, lr=1.51e-05, wd=6.40e-02]\n"
     ]
    },
    {
     "name": "stdout",
     "output_type": "stream",
     "text": [
      "\n",
      "Training Metrics:\n",
      "Loss: 0.0004\n",
      "Precision: 1.0000\n",
      "Recall: 1.0000\n",
      "F1-Score: 1.0000\n",
      "Learning Rate: 1.51e-05\n",
      "Weight Decay: 6.40e-02\n",
      "\n",
      "Validation Metrics:\n",
      "Loss: 0.2189\n",
      "Accuracy: 0.9000\n",
      "Precision: 0.9033\n",
      "Recall: 0.9000\n",
      "F1-Score: 0.8967\n",
      "\n",
      "Saved best model for fold 5 with F1: 0.8967\n",
      "\n",
      "Epoch 11/15\n",
      "------------------------------\n"
     ]
    },
    {
     "name": "stderr",
     "output_type": "stream",
     "text": [
      "Training: 100%|██████████| 85/85 [01:37<00:00,  1.15s/batch, loss=0.0003, lr=1.01e-05, wd=7.00e-02]\n"
     ]
    },
    {
     "name": "stdout",
     "output_type": "stream",
     "text": [
      "\n",
      "Training Metrics:\n",
      "Loss: 0.0004\n",
      "Precision: 1.0000\n",
      "Recall: 1.0000\n",
      "F1-Score: 1.0000\n",
      "Learning Rate: 1.01e-05\n",
      "Weight Decay: 7.00e-02\n",
      "\n",
      "Validation Metrics:\n",
      "Loss: 0.2145\n",
      "Accuracy: 0.9067\n",
      "Precision: 0.9088\n",
      "Recall: 0.9067\n",
      "F1-Score: 0.9034\n",
      "\n",
      "Saved best model for fold 5 with F1: 0.9034\n",
      "\n",
      "Epoch 12/15\n",
      "------------------------------\n"
     ]
    },
    {
     "name": "stderr",
     "output_type": "stream",
     "text": [
      "Training: 100%|██████████| 85/85 [01:36<00:00,  1.14s/batch, loss=0.0002, lr=5.84e-06, wd=7.60e-02]\n"
     ]
    },
    {
     "name": "stdout",
     "output_type": "stream",
     "text": [
      "\n",
      "Training Metrics:\n",
      "Loss: 0.0003\n",
      "Precision: 1.0000\n",
      "Recall: 1.0000\n",
      "F1-Score: 1.0000\n",
      "Learning Rate: 5.84e-06\n",
      "Weight Decay: 7.60e-02\n",
      "\n",
      "Validation Metrics:\n",
      "Loss: 0.2166\n",
      "Accuracy: 0.9200\n",
      "Precision: 0.9217\n",
      "Recall: 0.9200\n",
      "F1-Score: 0.9169\n",
      "\n",
      "Saved best model for fold 5 with F1: 0.9169\n",
      "\n",
      "Epoch 13/15\n",
      "------------------------------\n"
     ]
    },
    {
     "name": "stderr",
     "output_type": "stream",
     "text": [
      "Training: 100%|██████████| 85/85 [01:37<00:00,  1.15s/batch, loss=0.0002, lr=2.66e-06, wd=8.20e-02]\n"
     ]
    },
    {
     "name": "stdout",
     "output_type": "stream",
     "text": [
      "\n",
      "Training Metrics:\n",
      "Loss: 0.0003\n",
      "Precision: 1.0000\n",
      "Recall: 1.0000\n",
      "F1-Score: 1.0000\n",
      "Learning Rate: 2.66e-06\n",
      "Weight Decay: 8.20e-02\n",
      "\n",
      "Validation Metrics:\n",
      "Loss: 0.2162\n",
      "Accuracy: 0.9200\n",
      "Precision: 0.9217\n",
      "Recall: 0.9200\n",
      "F1-Score: 0.9169\n",
      "\n",
      "Epoch 14/15\n",
      "------------------------------\n"
     ]
    },
    {
     "name": "stderr",
     "output_type": "stream",
     "text": [
      "Training: 100%|██████████| 85/85 [01:37<00:00,  1.15s/batch, loss=0.0001, lr=6.73e-07, wd=8.80e-02]\n"
     ]
    },
    {
     "name": "stdout",
     "output_type": "stream",
     "text": [
      "\n",
      "Training Metrics:\n",
      "Loss: 0.0003\n",
      "Precision: 1.0000\n",
      "Recall: 1.0000\n",
      "F1-Score: 1.0000\n",
      "Learning Rate: 6.73e-07\n",
      "Weight Decay: 8.80e-02\n",
      "\n",
      "Validation Metrics:\n",
      "Loss: 0.2161\n",
      "Accuracy: 0.9200\n",
      "Precision: 0.9217\n",
      "Recall: 0.9200\n",
      "F1-Score: 0.9169\n",
      "\n",
      "Epoch 15/15\n",
      "------------------------------\n"
     ]
    },
    {
     "name": "stderr",
     "output_type": "stream",
     "text": [
      "Training: 100%|██████████| 85/85 [01:36<00:00,  1.14s/batch, loss=0.0010, lr=0.00e+00, wd=9.40e-02]\n"
     ]
    },
    {
     "name": "stdout",
     "output_type": "stream",
     "text": [
      "\n",
      "Training Metrics:\n",
      "Loss: 0.0003\n",
      "Precision: 1.0000\n",
      "Recall: 1.0000\n",
      "F1-Score: 1.0000\n",
      "Learning Rate: 0.00e+00\n",
      "Weight Decay: 9.40e-02\n",
      "\n",
      "Validation Metrics:\n",
      "Loss: 0.2161\n",
      "Accuracy: 0.9200\n",
      "Precision: 0.9217\n",
      "Recall: 0.9200\n",
      "F1-Score: 0.9169\n",
      "\n",
      "Early stopping triggered\n",
      "Confusion Matrix Shape: (30, 30)\n",
      "Plots saved to plots/dbmdz_bert-base-turkish-cased/combined_metrics_fold_5.png\n",
      "Metrics for fold 5 saved to fold_metrics/dbmdz_bert-base-turkish-cased/performance_metrics_fold_5.csv\n",
      "\n",
      "Fold 5 Results:\n",
      "Loss: 0.2166\n",
      "Accuracy: 0.9200\n",
      "Precision: 0.9217\n",
      "Recall: 0.9200\n",
      "F1-Score: 0.9169\n",
      "\n",
      "Fold 6/10\n",
      "Train size: 1350, Validation size: 150\n"
     ]
    },
    {
     "name": "stderr",
     "output_type": "stream",
     "text": [
      "Some weights of BertForSequenceClassification were not initialized from the model checkpoint at dbmdz/bert-base-turkish-cased and are newly initialized: ['classifier.bias', 'classifier.weight']\n",
      "You should probably TRAIN this model on a down-stream task to be able to use it for predictions and inference.\n"
     ]
    },
    {
     "name": "stdout",
     "output_type": "stream",
     "text": [
      "\n",
      "==================================================\n",
      "Training Fold 6\n",
      "==================================================\n",
      "Total steps: 1275, Warmup steps: 127\n",
      "\n",
      "Epoch 1/15\n",
      "------------------------------\n"
     ]
    },
    {
     "name": "stderr",
     "output_type": "stream",
     "text": [
      "Training: 100%|██████████| 85/85 [01:37<00:00,  1.15s/batch, loss=3.0005, lr=3.35e-05, wd=1.00e-02]\n",
      "/Users/egebilge/anaconda3/lib/python3.11/site-packages/sklearn/metrics/_classification.py:1469: UndefinedMetricWarning: Precision is ill-defined and being set to 0.0 in labels with no predicted samples. Use `zero_division` parameter to control this behavior.\n",
      "  _warn_prf(average, modifier, msg_start, len(result))\n",
      "/Users/egebilge/anaconda3/lib/python3.11/site-packages/sklearn/metrics/_classification.py:1469: UndefinedMetricWarning: Precision is ill-defined and being set to 0.0 in labels with no predicted samples. Use `zero_division` parameter to control this behavior.\n",
      "  _warn_prf(average, modifier, msg_start, len(result))\n"
     ]
    },
    {
     "name": "stdout",
     "output_type": "stream",
     "text": [
      "\n",
      "Training Metrics:\n",
      "Loss: 3.1945\n",
      "Precision: 0.0528\n",
      "Recall: 0.0496\n",
      "F1-Score: 0.0351\n",
      "Learning Rate: 3.35e-05\n",
      "Weight Decay: 1.00e-02\n",
      "\n",
      "Validation Metrics:\n",
      "Loss: 2.9687\n",
      "Accuracy: 0.1067\n",
      "Precision: 0.0485\n",
      "Recall: 0.1067\n",
      "F1-Score: 0.0605\n",
      "\n",
      "Saved best model for fold 6 with F1: 0.0605\n",
      "\n",
      "Epoch 2/15\n",
      "------------------------------\n"
     ]
    },
    {
     "name": "stderr",
     "output_type": "stream",
     "text": [
      "Training: 100%|██████████| 85/85 [01:37<00:00,  1.14s/batch, loss=0.9287, lr=4.98e-05, wd=1.60e-02]\n",
      "/Users/egebilge/anaconda3/lib/python3.11/site-packages/sklearn/metrics/_classification.py:1469: UndefinedMetricWarning: Precision is ill-defined and being set to 0.0 in labels with no predicted samples. Use `zero_division` parameter to control this behavior.\n",
      "  _warn_prf(average, modifier, msg_start, len(result))\n"
     ]
    },
    {
     "name": "stdout",
     "output_type": "stream",
     "text": [
      "\n",
      "Training Metrics:\n",
      "Loss: 1.8368\n",
      "Precision: 0.4256\n",
      "Recall: 0.4089\n",
      "F1-Score: 0.3900\n",
      "Learning Rate: 4.98e-05\n",
      "Weight Decay: 1.60e-02\n",
      "\n",
      "Validation Metrics:\n",
      "Loss: 1.0056\n",
      "Accuracy: 0.6400\n",
      "Precision: 0.6585\n",
      "Recall: 0.6400\n",
      "F1-Score: 0.5984\n",
      "\n",
      "Saved best model for fold 6 with F1: 0.5984\n",
      "\n",
      "Epoch 3/15\n",
      "------------------------------\n"
     ]
    },
    {
     "name": "stderr",
     "output_type": "stream",
     "text": [
      "Training: 100%|██████████| 85/85 [01:37<00:00,  1.14s/batch, loss=0.2543, lr=4.85e-05, wd=2.20e-02]\n"
     ]
    },
    {
     "name": "stdout",
     "output_type": "stream",
     "text": [
      "\n",
      "Training Metrics:\n",
      "Loss: 0.5856\n",
      "Precision: 0.7469\n",
      "Recall: 0.7496\n",
      "F1-Score: 0.7443\n",
      "Learning Rate: 4.85e-05\n",
      "Weight Decay: 2.20e-02\n",
      "\n",
      "Validation Metrics:\n",
      "Loss: 0.5260\n",
      "Accuracy: 0.7933\n",
      "Precision: 0.8320\n",
      "Recall: 0.7933\n",
      "F1-Score: 0.7744\n",
      "\n",
      "Saved best model for fold 6 with F1: 0.7744\n",
      "\n",
      "Epoch 4/15\n",
      "------------------------------\n"
     ]
    },
    {
     "name": "stderr",
     "output_type": "stream",
     "text": [
      "Training: 100%|██████████| 85/85 [01:37<00:00,  1.14s/batch, loss=0.0324, lr=4.59e-05, wd=2.80e-02]\n"
     ]
    },
    {
     "name": "stdout",
     "output_type": "stream",
     "text": [
      "\n",
      "Training Metrics:\n",
      "Loss: 0.1939\n",
      "Precision: 0.9063\n",
      "Recall: 0.9059\n",
      "F1-Score: 0.9054\n",
      "Learning Rate: 4.59e-05\n",
      "Weight Decay: 2.80e-02\n",
      "\n",
      "Validation Metrics:\n",
      "Loss: 0.3481\n",
      "Accuracy: 0.8733\n",
      "Precision: 0.9053\n",
      "Recall: 0.8733\n",
      "F1-Score: 0.8674\n",
      "\n",
      "Saved best model for fold 6 with F1: 0.8674\n",
      "\n",
      "Epoch 5/15\n",
      "------------------------------\n"
     ]
    },
    {
     "name": "stderr",
     "output_type": "stream",
     "text": [
      "Training: 100%|██████████| 85/85 [01:37<00:00,  1.15s/batch, loss=0.0286, lr=4.21e-05, wd=3.40e-02]\n"
     ]
    },
    {
     "name": "stdout",
     "output_type": "stream",
     "text": [
      "\n",
      "Training Metrics:\n",
      "Loss: 0.0503\n",
      "Precision: 0.9713\n",
      "Recall: 0.9711\n",
      "F1-Score: 0.9711\n",
      "Learning Rate: 4.21e-05\n",
      "Weight Decay: 3.40e-02\n",
      "\n",
      "Validation Metrics:\n",
      "Loss: 0.3474\n",
      "Accuracy: 0.8733\n",
      "Precision: 0.8917\n",
      "Recall: 0.8733\n",
      "F1-Score: 0.8616\n",
      "\n",
      "Epoch 6/15\n",
      "------------------------------\n"
     ]
    },
    {
     "name": "stderr",
     "output_type": "stream",
     "text": [
      "Training: 100%|██████████| 85/85 [01:37<00:00,  1.15s/batch, loss=0.0024, lr=3.75e-05, wd=4.00e-02]\n"
     ]
    },
    {
     "name": "stdout",
     "output_type": "stream",
     "text": [
      "\n",
      "Training Metrics:\n",
      "Loss: 0.0113\n",
      "Precision: 0.9941\n",
      "Recall: 0.9941\n",
      "F1-Score: 0.9941\n",
      "Learning Rate: 3.75e-05\n",
      "Weight Decay: 4.00e-02\n",
      "\n",
      "Validation Metrics:\n",
      "Loss: 0.4208\n",
      "Accuracy: 0.8200\n",
      "Precision: 0.8592\n",
      "Recall: 0.8200\n",
      "F1-Score: 0.8143\n",
      "\n",
      "Epoch 7/15\n",
      "------------------------------\n"
     ]
    },
    {
     "name": "stderr",
     "output_type": "stream",
     "text": [
      "Training: 100%|██████████| 85/85 [01:38<00:00,  1.15s/batch, loss=0.0020, lr=3.22e-05, wd=4.60e-02]\n"
     ]
    },
    {
     "name": "stdout",
     "output_type": "stream",
     "text": [
      "\n",
      "Training Metrics:\n",
      "Loss: 0.0123\n",
      "Precision: 0.9964\n",
      "Recall: 0.9963\n",
      "F1-Score: 0.9963\n",
      "Learning Rate: 3.22e-05\n",
      "Weight Decay: 4.60e-02\n",
      "\n",
      "Validation Metrics:\n",
      "Loss: 0.3129\n",
      "Accuracy: 0.8733\n",
      "Precision: 0.8847\n",
      "Recall: 0.8733\n",
      "F1-Score: 0.8687\n",
      "\n",
      "Saved best model for fold 6 with F1: 0.8687\n",
      "\n",
      "Epoch 8/15\n",
      "------------------------------\n"
     ]
    },
    {
     "name": "stderr",
     "output_type": "stream",
     "text": [
      "Training: 100%|██████████| 85/85 [01:37<00:00,  1.15s/batch, loss=0.0004, lr=2.64e-05, wd=5.20e-02]\n"
     ]
    },
    {
     "name": "stdout",
     "output_type": "stream",
     "text": [
      "\n",
      "Training Metrics:\n",
      "Loss: 0.0016\n",
      "Precision: 0.9993\n",
      "Recall: 0.9993\n",
      "F1-Score: 0.9993\n",
      "Learning Rate: 2.64e-05\n",
      "Weight Decay: 5.20e-02\n",
      "\n",
      "Validation Metrics:\n",
      "Loss: 0.2536\n",
      "Accuracy: 0.8933\n",
      "Precision: 0.9030\n",
      "Recall: 0.8933\n",
      "F1-Score: 0.8873\n",
      "\n",
      "Saved best model for fold 6 with F1: 0.8873\n",
      "\n",
      "Epoch 9/15\n",
      "------------------------------\n"
     ]
    },
    {
     "name": "stderr",
     "output_type": "stream",
     "text": [
      "Training: 100%|██████████| 85/85 [01:37<00:00,  1.15s/batch, loss=0.0004, lr=2.06e-05, wd=5.80e-02]\n"
     ]
    },
    {
     "name": "stdout",
     "output_type": "stream",
     "text": [
      "\n",
      "Training Metrics:\n",
      "Loss: 0.0007\n",
      "Precision: 0.9993\n",
      "Recall: 0.9993\n",
      "F1-Score: 0.9993\n",
      "Learning Rate: 2.06e-05\n",
      "Weight Decay: 5.80e-02\n",
      "\n",
      "Validation Metrics:\n",
      "Loss: 0.2562\n",
      "Accuracy: 0.9067\n",
      "Precision: 0.9167\n",
      "Recall: 0.9067\n",
      "F1-Score: 0.9033\n",
      "\n",
      "Saved best model for fold 6 with F1: 0.9033\n",
      "\n",
      "Epoch 10/15\n",
      "------------------------------\n"
     ]
    },
    {
     "name": "stderr",
     "output_type": "stream",
     "text": [
      "Training: 100%|██████████| 85/85 [01:38<00:00,  1.15s/batch, loss=0.0004, lr=1.51e-05, wd=6.40e-02]\n"
     ]
    },
    {
     "name": "stdout",
     "output_type": "stream",
     "text": [
      "\n",
      "Training Metrics:\n",
      "Loss: 0.0004\n",
      "Precision: 1.0000\n",
      "Recall: 1.0000\n",
      "F1-Score: 1.0000\n",
      "Learning Rate: 1.51e-05\n",
      "Weight Decay: 6.40e-02\n",
      "\n",
      "Validation Metrics:\n",
      "Loss: 0.2552\n",
      "Accuracy: 0.9200\n",
      "Precision: 0.9305\n",
      "Recall: 0.9200\n",
      "F1-Score: 0.9172\n",
      "\n",
      "Saved best model for fold 6 with F1: 0.9172\n",
      "\n",
      "Epoch 11/15\n",
      "------------------------------\n"
     ]
    },
    {
     "name": "stderr",
     "output_type": "stream",
     "text": [
      "Training: 100%|██████████| 85/85 [01:37<00:00,  1.15s/batch, loss=0.0001, lr=1.01e-05, wd=7.00e-02]\n"
     ]
    },
    {
     "name": "stdout",
     "output_type": "stream",
     "text": [
      "\n",
      "Training Metrics:\n",
      "Loss: 0.0003\n",
      "Precision: 1.0000\n",
      "Recall: 1.0000\n",
      "F1-Score: 1.0000\n",
      "Learning Rate: 1.01e-05\n",
      "Weight Decay: 7.00e-02\n",
      "\n",
      "Validation Metrics:\n",
      "Loss: 0.2534\n",
      "Accuracy: 0.9133\n",
      "Precision: 0.9263\n",
      "Recall: 0.9133\n",
      "F1-Score: 0.9105\n",
      "\n",
      "Epoch 12/15\n",
      "------------------------------\n"
     ]
    },
    {
     "name": "stderr",
     "output_type": "stream",
     "text": [
      "Training: 100%|██████████| 85/85 [01:37<00:00,  1.15s/batch, loss=0.0006, lr=5.84e-06, wd=7.60e-02]\n"
     ]
    },
    {
     "name": "stdout",
     "output_type": "stream",
     "text": [
      "\n",
      "Training Metrics:\n",
      "Loss: 0.0003\n",
      "Precision: 1.0000\n",
      "Recall: 1.0000\n",
      "F1-Score: 1.0000\n",
      "Learning Rate: 5.84e-06\n",
      "Weight Decay: 7.60e-02\n",
      "\n",
      "Validation Metrics:\n",
      "Loss: 0.2524\n",
      "Accuracy: 0.9200\n",
      "Precision: 0.9310\n",
      "Recall: 0.9200\n",
      "F1-Score: 0.9171\n",
      "\n",
      "Epoch 13/15\n",
      "------------------------------\n"
     ]
    },
    {
     "name": "stderr",
     "output_type": "stream",
     "text": [
      "Training: 100%|██████████| 85/85 [01:38<00:00,  1.15s/batch, loss=0.0002, lr=2.66e-06, wd=8.20e-02]\n"
     ]
    },
    {
     "name": "stdout",
     "output_type": "stream",
     "text": [
      "\n",
      "Training Metrics:\n",
      "Loss: 0.0003\n",
      "Precision: 1.0000\n",
      "Recall: 1.0000\n",
      "F1-Score: 1.0000\n",
      "Learning Rate: 2.66e-06\n",
      "Weight Decay: 8.20e-02\n",
      "\n",
      "Validation Metrics:\n",
      "Loss: 0.2515\n",
      "Accuracy: 0.9133\n",
      "Precision: 0.9233\n",
      "Recall: 0.9133\n",
      "F1-Score: 0.9097\n",
      "\n",
      "Early stopping triggered\n",
      "Confusion Matrix Shape: (30, 30)\n",
      "Plots saved to plots/dbmdz_bert-base-turkish-cased/combined_metrics_fold_6.png\n",
      "Metrics for fold 6 saved to fold_metrics/dbmdz_bert-base-turkish-cased/performance_metrics_fold_6.csv\n",
      "\n",
      "Fold 6 Results:\n",
      "Loss: 0.2552\n",
      "Accuracy: 0.9200\n",
      "Precision: 0.9305\n",
      "Recall: 0.9200\n",
      "F1-Score: 0.9172\n",
      "\n",
      "Fold 7/10\n",
      "Train size: 1350, Validation size: 150\n"
     ]
    },
    {
     "name": "stderr",
     "output_type": "stream",
     "text": [
      "Some weights of BertForSequenceClassification were not initialized from the model checkpoint at dbmdz/bert-base-turkish-cased and are newly initialized: ['classifier.bias', 'classifier.weight']\n",
      "You should probably TRAIN this model on a down-stream task to be able to use it for predictions and inference.\n"
     ]
    },
    {
     "name": "stdout",
     "output_type": "stream",
     "text": [
      "\n",
      "==================================================\n",
      "Training Fold 7\n",
      "==================================================\n",
      "Total steps: 1275, Warmup steps: 127\n",
      "\n",
      "Epoch 1/15\n",
      "------------------------------\n"
     ]
    },
    {
     "name": "stderr",
     "output_type": "stream",
     "text": [
      "Training: 100%|██████████| 85/85 [01:37<00:00,  1.15s/batch, loss=2.4372, lr=3.35e-05, wd=1.00e-02]\n",
      "/Users/egebilge/anaconda3/lib/python3.11/site-packages/sklearn/metrics/_classification.py:1469: UndefinedMetricWarning: Precision is ill-defined and being set to 0.0 in labels with no predicted samples. Use `zero_division` parameter to control this behavior.\n",
      "  _warn_prf(average, modifier, msg_start, len(result))\n",
      "/Users/egebilge/anaconda3/lib/python3.11/site-packages/sklearn/metrics/_classification.py:1469: UndefinedMetricWarning: Precision is ill-defined and being set to 0.0 in labels with no predicted samples. Use `zero_division` parameter to control this behavior.\n",
      "  _warn_prf(average, modifier, msg_start, len(result))\n"
     ]
    },
    {
     "name": "stdout",
     "output_type": "stream",
     "text": [
      "\n",
      "Training Metrics:\n",
      "Loss: 3.1608\n",
      "Precision: 0.1041\n",
      "Recall: 0.0607\n",
      "F1-Score: 0.0564\n",
      "Learning Rate: 3.35e-05\n",
      "Weight Decay: 1.00e-02\n",
      "\n",
      "Validation Metrics:\n",
      "Loss: 2.6567\n",
      "Accuracy: 0.2800\n",
      "Precision: 0.2146\n",
      "Recall: 0.2800\n",
      "F1-Score: 0.2089\n",
      "\n",
      "Saved best model for fold 7 with F1: 0.2089\n",
      "\n",
      "Epoch 2/15\n",
      "------------------------------\n"
     ]
    },
    {
     "name": "stderr",
     "output_type": "stream",
     "text": [
      "Training: 100%|██████████| 85/85 [01:37<00:00,  1.15s/batch, loss=0.8865, lr=4.98e-05, wd=1.60e-02]\n",
      "/Users/egebilge/anaconda3/lib/python3.11/site-packages/sklearn/metrics/_classification.py:1469: UndefinedMetricWarning: Precision is ill-defined and being set to 0.0 in labels with no predicted samples. Use `zero_division` parameter to control this behavior.\n",
      "  _warn_prf(average, modifier, msg_start, len(result))\n"
     ]
    },
    {
     "name": "stdout",
     "output_type": "stream",
     "text": [
      "\n",
      "Training Metrics:\n",
      "Loss: 1.6049\n",
      "Precision: 0.5100\n",
      "Recall: 0.4993\n",
      "F1-Score: 0.4855\n",
      "Learning Rate: 4.98e-05\n",
      "Weight Decay: 1.60e-02\n",
      "\n",
      "Validation Metrics:\n",
      "Loss: 0.8863\n",
      "Accuracy: 0.6533\n",
      "Precision: 0.7437\n",
      "Recall: 0.6533\n",
      "F1-Score: 0.6443\n",
      "\n",
      "Saved best model for fold 7 with F1: 0.6443\n",
      "\n",
      "Epoch 3/15\n",
      "------------------------------\n"
     ]
    },
    {
     "name": "stderr",
     "output_type": "stream",
     "text": [
      "Training: 100%|██████████| 85/85 [01:37<00:00,  1.15s/batch, loss=0.3704, lr=4.85e-05, wd=2.20e-02]\n"
     ]
    },
    {
     "name": "stdout",
     "output_type": "stream",
     "text": [
      "\n",
      "Training Metrics:\n",
      "Loss: 0.4322\n",
      "Precision: 0.8179\n",
      "Recall: 0.8193\n",
      "F1-Score: 0.8166\n",
      "Learning Rate: 4.85e-05\n",
      "Weight Decay: 2.20e-02\n",
      "\n",
      "Validation Metrics:\n",
      "Loss: 0.4142\n",
      "Accuracy: 0.8467\n",
      "Precision: 0.8905\n",
      "Recall: 0.8467\n",
      "F1-Score: 0.8469\n",
      "\n",
      "Saved best model for fold 7 with F1: 0.8469\n",
      "\n",
      "Epoch 4/15\n",
      "------------------------------\n"
     ]
    },
    {
     "name": "stderr",
     "output_type": "stream",
     "text": [
      "Training: 100%|██████████| 85/85 [01:37<00:00,  1.14s/batch, loss=0.0255, lr=4.59e-05, wd=2.80e-02]\n"
     ]
    },
    {
     "name": "stdout",
     "output_type": "stream",
     "text": [
      "\n",
      "Training Metrics:\n",
      "Loss: 0.1082\n",
      "Precision: 0.9471\n",
      "Recall: 0.9467\n",
      "F1-Score: 0.9465\n",
      "Learning Rate: 4.59e-05\n",
      "Weight Decay: 2.80e-02\n",
      "\n",
      "Validation Metrics:\n",
      "Loss: 0.5170\n",
      "Accuracy: 0.7933\n",
      "Precision: 0.8638\n",
      "Recall: 0.7933\n",
      "F1-Score: 0.8015\n",
      "\n",
      "Epoch 5/15\n",
      "------------------------------\n"
     ]
    },
    {
     "name": "stderr",
     "output_type": "stream",
     "text": [
      "Training: 100%|██████████| 85/85 [01:37<00:00,  1.15s/batch, loss=0.0075, lr=4.21e-05, wd=3.40e-02]\n"
     ]
    },
    {
     "name": "stdout",
     "output_type": "stream",
     "text": [
      "\n",
      "Training Metrics:\n",
      "Loss: 0.0395\n",
      "Precision: 0.9773\n",
      "Recall: 0.9763\n",
      "F1-Score: 0.9764\n",
      "Learning Rate: 4.21e-05\n",
      "Weight Decay: 3.40e-02\n",
      "\n",
      "Validation Metrics:\n",
      "Loss: 0.3411\n",
      "Accuracy: 0.8667\n",
      "Precision: 0.8908\n",
      "Recall: 0.8667\n",
      "F1-Score: 0.8607\n",
      "\n",
      "Saved best model for fold 7 with F1: 0.8607\n",
      "\n",
      "Epoch 6/15\n",
      "------------------------------\n"
     ]
    },
    {
     "name": "stderr",
     "output_type": "stream",
     "text": [
      "Training: 100%|██████████| 85/85 [01:37<00:00,  1.15s/batch, loss=0.2581, lr=3.75e-05, wd=4.00e-02]\n"
     ]
    },
    {
     "name": "stdout",
     "output_type": "stream",
     "text": [
      "\n",
      "Training Metrics:\n",
      "Loss: 0.0169\n",
      "Precision: 0.9920\n",
      "Recall: 0.9919\n",
      "F1-Score: 0.9918\n",
      "Learning Rate: 3.75e-05\n",
      "Weight Decay: 4.00e-02\n",
      "\n",
      "Validation Metrics:\n",
      "Loss: 0.3507\n",
      "Accuracy: 0.8667\n",
      "Precision: 0.9015\n",
      "Recall: 0.8667\n",
      "F1-Score: 0.8736\n",
      "\n",
      "Saved best model for fold 7 with F1: 0.8736\n",
      "\n",
      "Epoch 7/15\n",
      "------------------------------\n"
     ]
    },
    {
     "name": "stderr",
     "output_type": "stream",
     "text": [
      "Training: 100%|██████████| 85/85 [01:37<00:00,  1.15s/batch, loss=0.0003, lr=3.22e-05, wd=4.60e-02]\n"
     ]
    },
    {
     "name": "stdout",
     "output_type": "stream",
     "text": [
      "\n",
      "Training Metrics:\n",
      "Loss: 0.0033\n",
      "Precision: 0.9978\n",
      "Recall: 0.9978\n",
      "F1-Score: 0.9978\n",
      "Learning Rate: 3.22e-05\n",
      "Weight Decay: 4.60e-02\n",
      "\n",
      "Validation Metrics:\n",
      "Loss: 0.3346\n",
      "Accuracy: 0.8600\n",
      "Precision: 0.9047\n",
      "Recall: 0.8600\n",
      "F1-Score: 0.8624\n",
      "\n",
      "Epoch 8/15\n",
      "------------------------------\n"
     ]
    },
    {
     "name": "stderr",
     "output_type": "stream",
     "text": [
      "Training: 100%|██████████| 85/85 [01:34<00:00,  1.11s/batch, loss=0.0003, lr=2.64e-05, wd=5.20e-02]\n"
     ]
    },
    {
     "name": "stdout",
     "output_type": "stream",
     "text": [
      "\n",
      "Training Metrics:\n",
      "Loss: 0.0009\n",
      "Precision: 1.0000\n",
      "Recall: 1.0000\n",
      "F1-Score: 1.0000\n",
      "Learning Rate: 2.64e-05\n",
      "Weight Decay: 5.20e-02\n",
      "\n",
      "Validation Metrics:\n",
      "Loss: 0.3314\n",
      "Accuracy: 0.8667\n",
      "Precision: 0.8902\n",
      "Recall: 0.8667\n",
      "F1-Score: 0.8653\n",
      "\n",
      "Epoch 9/15\n",
      "------------------------------\n"
     ]
    },
    {
     "name": "stderr",
     "output_type": "stream",
     "text": [
      "Training: 100%|██████████| 85/85 [01:32<00:00,  1.09s/batch, loss=0.0003, lr=2.06e-05, wd=5.80e-02]\n"
     ]
    },
    {
     "name": "stdout",
     "output_type": "stream",
     "text": [
      "\n",
      "Training Metrics:\n",
      "Loss: 0.0004\n",
      "Precision: 1.0000\n",
      "Recall: 1.0000\n",
      "F1-Score: 1.0000\n",
      "Learning Rate: 2.06e-05\n",
      "Weight Decay: 5.80e-02\n",
      "\n",
      "Validation Metrics:\n",
      "Loss: 0.3421\n",
      "Accuracy: 0.8667\n",
      "Precision: 0.8929\n",
      "Recall: 0.8667\n",
      "F1-Score: 0.8650\n",
      "\n",
      "Early stopping triggered\n",
      "Confusion Matrix Shape: (30, 30)\n",
      "Plots saved to plots/dbmdz_bert-base-turkish-cased/combined_metrics_fold_7.png\n",
      "Metrics for fold 7 saved to fold_metrics/dbmdz_bert-base-turkish-cased/performance_metrics_fold_7.csv\n",
      "\n",
      "Fold 7 Results:\n",
      "Loss: 0.3507\n",
      "Accuracy: 0.8667\n",
      "Precision: 0.9015\n",
      "Recall: 0.8667\n",
      "F1-Score: 0.8736\n",
      "\n",
      "Fold 8/10\n",
      "Train size: 1350, Validation size: 150\n"
     ]
    },
    {
     "name": "stderr",
     "output_type": "stream",
     "text": [
      "Some weights of BertForSequenceClassification were not initialized from the model checkpoint at dbmdz/bert-base-turkish-cased and are newly initialized: ['classifier.bias', 'classifier.weight']\n",
      "You should probably TRAIN this model on a down-stream task to be able to use it for predictions and inference.\n"
     ]
    },
    {
     "name": "stdout",
     "output_type": "stream",
     "text": [
      "\n",
      "==================================================\n",
      "Training Fold 8\n",
      "==================================================\n",
      "Total steps: 1275, Warmup steps: 127\n",
      "\n",
      "Epoch 1/15\n",
      "------------------------------\n"
     ]
    },
    {
     "name": "stderr",
     "output_type": "stream",
     "text": [
      "Training: 100%|██████████| 85/85 [01:31<00:00,  1.08s/batch, loss=3.3912, lr=3.35e-05, wd=1.00e-02]\n",
      "/Users/egebilge/anaconda3/lib/python3.11/site-packages/sklearn/metrics/_classification.py:1469: UndefinedMetricWarning: Precision is ill-defined and being set to 0.0 in labels with no predicted samples. Use `zero_division` parameter to control this behavior.\n",
      "  _warn_prf(average, modifier, msg_start, len(result))\n",
      "/Users/egebilge/anaconda3/lib/python3.11/site-packages/sklearn/metrics/_classification.py:1469: UndefinedMetricWarning: Precision is ill-defined and being set to 0.0 in labels with no predicted samples. Use `zero_division` parameter to control this behavior.\n",
      "  _warn_prf(average, modifier, msg_start, len(result))\n"
     ]
    },
    {
     "name": "stdout",
     "output_type": "stream",
     "text": [
      "\n",
      "Training Metrics:\n",
      "Loss: 3.2352\n",
      "Precision: 0.0312\n",
      "Recall: 0.0296\n",
      "F1-Score: 0.0216\n",
      "Learning Rate: 3.35e-05\n",
      "Weight Decay: 1.00e-02\n",
      "\n",
      "Validation Metrics:\n",
      "Loss: 3.1986\n",
      "Accuracy: 0.0467\n",
      "Precision: 0.0105\n",
      "Recall: 0.0467\n",
      "F1-Score: 0.0144\n",
      "\n",
      "Saved best model for fold 8 with F1: 0.0144\n",
      "\n",
      "Epoch 2/15\n",
      "------------------------------\n"
     ]
    },
    {
     "name": "stderr",
     "output_type": "stream",
     "text": [
      "Training: 100%|██████████| 85/85 [01:30<00:00,  1.07s/batch, loss=1.8294, lr=4.98e-05, wd=1.60e-02]\n",
      "/Users/egebilge/anaconda3/lib/python3.11/site-packages/sklearn/metrics/_classification.py:1469: UndefinedMetricWarning: Precision is ill-defined and being set to 0.0 in labels with no predicted samples. Use `zero_division` parameter to control this behavior.\n",
      "  _warn_prf(average, modifier, msg_start, len(result))\n",
      "/Users/egebilge/anaconda3/lib/python3.11/site-packages/sklearn/metrics/_classification.py:1469: UndefinedMetricWarning: Precision is ill-defined and being set to 0.0 in labels with no predicted samples. Use `zero_division` parameter to control this behavior.\n",
      "  _warn_prf(average, modifier, msg_start, len(result))\n"
     ]
    },
    {
     "name": "stdout",
     "output_type": "stream",
     "text": [
      "\n",
      "Training Metrics:\n",
      "Loss: 2.5553\n",
      "Precision: 0.2801\n",
      "Recall: 0.2178\n",
      "F1-Score: 0.2140\n",
      "Learning Rate: 4.98e-05\n",
      "Weight Decay: 1.60e-02\n",
      "\n",
      "Validation Metrics:\n",
      "Loss: 1.4645\n",
      "Accuracy: 0.5267\n",
      "Precision: 0.4823\n",
      "Recall: 0.5267\n",
      "F1-Score: 0.4565\n",
      "\n",
      "Saved best model for fold 8 with F1: 0.4565\n",
      "\n",
      "Epoch 3/15\n",
      "------------------------------\n"
     ]
    },
    {
     "name": "stderr",
     "output_type": "stream",
     "text": [
      "Training: 100%|██████████| 85/85 [01:36<00:00,  1.14s/batch, loss=0.5596, lr=4.85e-05, wd=2.20e-02]\n"
     ]
    },
    {
     "name": "stdout",
     "output_type": "stream",
     "text": [
      "\n",
      "Training Metrics:\n",
      "Loss: 0.8742\n",
      "Precision: 0.6970\n",
      "Recall: 0.6904\n",
      "F1-Score: 0.6831\n",
      "Learning Rate: 4.85e-05\n",
      "Weight Decay: 2.20e-02\n",
      "\n",
      "Validation Metrics:\n",
      "Loss: 0.5561\n",
      "Accuracy: 0.7867\n",
      "Precision: 0.8241\n",
      "Recall: 0.7867\n",
      "F1-Score: 0.7762\n",
      "\n",
      "Saved best model for fold 8 with F1: 0.7762\n",
      "\n",
      "Epoch 4/15\n",
      "------------------------------\n"
     ]
    },
    {
     "name": "stderr",
     "output_type": "stream",
     "text": [
      "Training: 100%|██████████| 85/85 [01:37<00:00,  1.14s/batch, loss=0.0514, lr=4.59e-05, wd=2.80e-02]\n"
     ]
    },
    {
     "name": "stdout",
     "output_type": "stream",
     "text": [
      "\n",
      "Training Metrics:\n",
      "Loss: 0.2149\n",
      "Precision: 0.9094\n",
      "Recall: 0.9096\n",
      "F1-Score: 0.9089\n",
      "Learning Rate: 4.59e-05\n",
      "Weight Decay: 2.80e-02\n",
      "\n",
      "Validation Metrics:\n",
      "Loss: 0.2918\n",
      "Accuracy: 0.8867\n",
      "Precision: 0.9093\n",
      "Recall: 0.8867\n",
      "F1-Score: 0.8840\n",
      "\n",
      "Saved best model for fold 8 with F1: 0.8840\n",
      "\n",
      "Epoch 5/15\n",
      "------------------------------\n"
     ]
    },
    {
     "name": "stderr",
     "output_type": "stream",
     "text": [
      "Training: 100%|██████████| 85/85 [01:36<00:00,  1.13s/batch, loss=0.0085, lr=4.21e-05, wd=3.40e-02]\n"
     ]
    },
    {
     "name": "stdout",
     "output_type": "stream",
     "text": [
      "\n",
      "Training Metrics:\n",
      "Loss: 0.0629\n",
      "Precision: 0.9652\n",
      "Recall: 0.9652\n",
      "F1-Score: 0.9650\n",
      "Learning Rate: 4.21e-05\n",
      "Weight Decay: 3.40e-02\n",
      "\n",
      "Validation Metrics:\n",
      "Loss: 0.2156\n",
      "Accuracy: 0.8867\n",
      "Precision: 0.9044\n",
      "Recall: 0.8867\n",
      "F1-Score: 0.8825\n",
      "\n",
      "Epoch 6/15\n",
      "------------------------------\n"
     ]
    },
    {
     "name": "stderr",
     "output_type": "stream",
     "text": [
      "Training: 100%|██████████| 85/85 [01:40<00:00,  1.18s/batch, loss=0.0022, lr=3.75e-05, wd=4.00e-02]\n"
     ]
    },
    {
     "name": "stdout",
     "output_type": "stream",
     "text": [
      "\n",
      "Training Metrics:\n",
      "Loss: 0.0147\n",
      "Precision: 0.9920\n",
      "Recall: 0.9919\n",
      "F1-Score: 0.9919\n",
      "Learning Rate: 3.75e-05\n",
      "Weight Decay: 4.00e-02\n",
      "\n",
      "Validation Metrics:\n",
      "Loss: 0.2153\n",
      "Accuracy: 0.8867\n",
      "Precision: 0.9017\n",
      "Recall: 0.8867\n",
      "F1-Score: 0.8809\n",
      "\n",
      "Epoch 7/15\n",
      "------------------------------\n"
     ]
    },
    {
     "name": "stderr",
     "output_type": "stream",
     "text": [
      "Training: 100%|██████████| 85/85 [01:34<00:00,  1.11s/batch, loss=0.0008, lr=3.22e-05, wd=4.60e-02]\n"
     ]
    },
    {
     "name": "stdout",
     "output_type": "stream",
     "text": [
      "\n",
      "Training Metrics:\n",
      "Loss: 0.0014\n",
      "Precision: 1.0000\n",
      "Recall: 1.0000\n",
      "F1-Score: 1.0000\n",
      "Learning Rate: 3.22e-05\n",
      "Weight Decay: 4.60e-02\n",
      "\n",
      "Validation Metrics:\n",
      "Loss: 0.2294\n",
      "Accuracy: 0.8800\n",
      "Precision: 0.9029\n",
      "Recall: 0.8800\n",
      "F1-Score: 0.8706\n",
      "\n",
      "Early stopping triggered\n",
      "Confusion Matrix Shape: (30, 30)\n",
      "Plots saved to plots/dbmdz_bert-base-turkish-cased/combined_metrics_fold_8.png\n",
      "Metrics for fold 8 saved to fold_metrics/dbmdz_bert-base-turkish-cased/performance_metrics_fold_8.csv\n",
      "\n",
      "Fold 8 Results:\n",
      "Loss: 0.2918\n",
      "Accuracy: 0.8867\n",
      "Precision: 0.9093\n",
      "Recall: 0.8867\n",
      "F1-Score: 0.8840\n",
      "\n",
      "Fold 9/10\n",
      "Train size: 1350, Validation size: 150\n"
     ]
    },
    {
     "name": "stderr",
     "output_type": "stream",
     "text": [
      "Some weights of BertForSequenceClassification were not initialized from the model checkpoint at dbmdz/bert-base-turkish-cased and are newly initialized: ['classifier.bias', 'classifier.weight']\n",
      "You should probably TRAIN this model on a down-stream task to be able to use it for predictions and inference.\n"
     ]
    },
    {
     "name": "stdout",
     "output_type": "stream",
     "text": [
      "\n",
      "==================================================\n",
      "Training Fold 9\n",
      "==================================================\n",
      "Total steps: 1275, Warmup steps: 127\n",
      "\n",
      "Epoch 1/15\n",
      "------------------------------\n"
     ]
    },
    {
     "name": "stderr",
     "output_type": "stream",
     "text": [
      "Training: 100%|██████████| 85/85 [01:32<00:00,  1.09s/batch, loss=2.8004, lr=3.35e-05, wd=1.00e-02]\n",
      "/Users/egebilge/anaconda3/lib/python3.11/site-packages/sklearn/metrics/_classification.py:1469: UndefinedMetricWarning: Precision is ill-defined and being set to 0.0 in labels with no predicted samples. Use `zero_division` parameter to control this behavior.\n",
      "  _warn_prf(average, modifier, msg_start, len(result))\n",
      "/Users/egebilge/anaconda3/lib/python3.11/site-packages/sklearn/metrics/_classification.py:1469: UndefinedMetricWarning: Precision is ill-defined and being set to 0.0 in labels with no predicted samples. Use `zero_division` parameter to control this behavior.\n",
      "  _warn_prf(average, modifier, msg_start, len(result))\n"
     ]
    },
    {
     "name": "stdout",
     "output_type": "stream",
     "text": [
      "\n",
      "Training Metrics:\n",
      "Loss: 3.2255\n",
      "Precision: 0.0490\n",
      "Recall: 0.0430\n",
      "F1-Score: 0.0365\n",
      "Learning Rate: 3.35e-05\n",
      "Weight Decay: 1.00e-02\n",
      "\n",
      "Validation Metrics:\n",
      "Loss: 2.9058\n",
      "Accuracy: 0.1333\n",
      "Precision: 0.0806\n",
      "Recall: 0.1333\n",
      "F1-Score: 0.0632\n",
      "\n",
      "Saved best model for fold 9 with F1: 0.0632\n",
      "\n",
      "Epoch 2/15\n",
      "------------------------------\n"
     ]
    },
    {
     "name": "stderr",
     "output_type": "stream",
     "text": [
      "Training: 100%|██████████| 85/85 [01:32<00:00,  1.09s/batch, loss=1.0698, lr=4.98e-05, wd=1.60e-02]\n",
      "/Users/egebilge/anaconda3/lib/python3.11/site-packages/sklearn/metrics/_classification.py:1469: UndefinedMetricWarning: Precision is ill-defined and being set to 0.0 in labels with no predicted samples. Use `zero_division` parameter to control this behavior.\n",
      "  _warn_prf(average, modifier, msg_start, len(result))\n"
     ]
    },
    {
     "name": "stdout",
     "output_type": "stream",
     "text": [
      "\n",
      "Training Metrics:\n",
      "Loss: 2.1347\n",
      "Precision: 0.3675\n",
      "Recall: 0.3467\n",
      "F1-Score: 0.3281\n",
      "Learning Rate: 4.98e-05\n",
      "Weight Decay: 1.60e-02\n",
      "\n",
      "Validation Metrics:\n",
      "Loss: 1.1589\n",
      "Accuracy: 0.6400\n",
      "Precision: 0.6203\n",
      "Recall: 0.6400\n",
      "F1-Score: 0.5864\n",
      "\n",
      "Saved best model for fold 9 with F1: 0.5864\n",
      "\n",
      "Epoch 3/15\n",
      "------------------------------\n"
     ]
    },
    {
     "name": "stderr",
     "output_type": "stream",
     "text": [
      "Training: 100%|██████████| 85/85 [01:33<00:00,  1.09s/batch, loss=0.6298, lr=4.85e-05, wd=2.20e-02]\n"
     ]
    },
    {
     "name": "stdout",
     "output_type": "stream",
     "text": [
      "\n",
      "Training Metrics:\n",
      "Loss: 0.6673\n",
      "Precision: 0.7591\n",
      "Recall: 0.7570\n",
      "F1-Score: 0.7527\n",
      "Learning Rate: 4.85e-05\n",
      "Weight Decay: 2.20e-02\n",
      "\n",
      "Validation Metrics:\n",
      "Loss: 0.4591\n",
      "Accuracy: 0.8000\n",
      "Precision: 0.8245\n",
      "Recall: 0.8000\n",
      "F1-Score: 0.7860\n",
      "\n",
      "Saved best model for fold 9 with F1: 0.7860\n",
      "\n",
      "Epoch 4/15\n",
      "------------------------------\n"
     ]
    },
    {
     "name": "stderr",
     "output_type": "stream",
     "text": [
      "Training: 100%|██████████| 85/85 [01:32<00:00,  1.09s/batch, loss=0.0239, lr=4.59e-05, wd=2.80e-02]\n"
     ]
    },
    {
     "name": "stdout",
     "output_type": "stream",
     "text": [
      "\n",
      "Training Metrics:\n",
      "Loss: 0.1929\n",
      "Precision: 0.9180\n",
      "Recall: 0.9163\n",
      "F1-Score: 0.9163\n",
      "Learning Rate: 4.59e-05\n",
      "Weight Decay: 2.80e-02\n",
      "\n",
      "Validation Metrics:\n",
      "Loss: 0.2660\n",
      "Accuracy: 0.8667\n",
      "Precision: 0.8850\n",
      "Recall: 0.8667\n",
      "F1-Score: 0.8554\n",
      "\n",
      "Saved best model for fold 9 with F1: 0.8554\n",
      "\n",
      "Epoch 5/15\n",
      "------------------------------\n"
     ]
    },
    {
     "name": "stderr",
     "output_type": "stream",
     "text": [
      "Training: 100%|██████████| 85/85 [01:33<00:00,  1.10s/batch, loss=0.0124, lr=4.21e-05, wd=3.40e-02]\n"
     ]
    },
    {
     "name": "stdout",
     "output_type": "stream",
     "text": [
      "\n",
      "Training Metrics:\n",
      "Loss: 0.0443\n",
      "Precision: 0.9743\n",
      "Recall: 0.9733\n",
      "F1-Score: 0.9734\n",
      "Learning Rate: 4.21e-05\n",
      "Weight Decay: 3.40e-02\n",
      "\n",
      "Validation Metrics:\n",
      "Loss: 0.2251\n",
      "Accuracy: 0.9133\n",
      "Precision: 0.9425\n",
      "Recall: 0.9133\n",
      "F1-Score: 0.9140\n",
      "\n",
      "Saved best model for fold 9 with F1: 0.9140\n",
      "\n",
      "Epoch 6/15\n",
      "------------------------------\n"
     ]
    },
    {
     "name": "stderr",
     "output_type": "stream",
     "text": [
      "Training: 100%|██████████| 85/85 [01:35<00:00,  1.12s/batch, loss=0.0013, lr=3.75e-05, wd=4.00e-02]\n"
     ]
    },
    {
     "name": "stdout",
     "output_type": "stream",
     "text": [
      "\n",
      "Training Metrics:\n",
      "Loss: 0.0179\n",
      "Precision: 0.9883\n",
      "Recall: 0.9881\n",
      "F1-Score: 0.9882\n",
      "Learning Rate: 3.75e-05\n",
      "Weight Decay: 4.00e-02\n",
      "\n",
      "Validation Metrics:\n",
      "Loss: 0.2036\n",
      "Accuracy: 0.8867\n",
      "Precision: 0.9029\n",
      "Recall: 0.8867\n",
      "F1-Score: 0.8831\n",
      "\n",
      "Epoch 7/15\n",
      "------------------------------\n"
     ]
    },
    {
     "name": "stderr",
     "output_type": "stream",
     "text": [
      "Training: 100%|██████████| 85/85 [01:37<00:00,  1.14s/batch, loss=0.0014, lr=3.22e-05, wd=4.60e-02]\n"
     ]
    },
    {
     "name": "stdout",
     "output_type": "stream",
     "text": [
      "\n",
      "Training Metrics:\n",
      "Loss: 0.0052\n",
      "Precision: 0.9963\n",
      "Recall: 0.9963\n",
      "F1-Score: 0.9963\n",
      "Learning Rate: 3.22e-05\n",
      "Weight Decay: 4.60e-02\n",
      "\n",
      "Validation Metrics:\n",
      "Loss: 0.1571\n",
      "Accuracy: 0.9067\n",
      "Precision: 0.9183\n",
      "Recall: 0.9067\n",
      "F1-Score: 0.9031\n",
      "\n",
      "Epoch 8/15\n",
      "------------------------------\n"
     ]
    },
    {
     "name": "stderr",
     "output_type": "stream",
     "text": [
      "Training: 100%|██████████| 85/85 [01:35<00:00,  1.13s/batch, loss=0.0003, lr=2.64e-05, wd=5.20e-02]\n"
     ]
    },
    {
     "name": "stdout",
     "output_type": "stream",
     "text": [
      "\n",
      "Training Metrics:\n",
      "Loss: 0.0006\n",
      "Precision: 1.0000\n",
      "Recall: 1.0000\n",
      "F1-Score: 1.0000\n",
      "Learning Rate: 2.64e-05\n",
      "Weight Decay: 5.20e-02\n",
      "\n",
      "Validation Metrics:\n",
      "Loss: 0.1485\n",
      "Accuracy: 0.9067\n",
      "Precision: 0.9212\n",
      "Recall: 0.9067\n",
      "F1-Score: 0.9062\n",
      "\n",
      "Early stopping triggered\n",
      "Confusion Matrix Shape: (30, 30)\n",
      "Plots saved to plots/dbmdz_bert-base-turkish-cased/combined_metrics_fold_9.png\n",
      "Metrics for fold 9 saved to fold_metrics/dbmdz_bert-base-turkish-cased/performance_metrics_fold_9.csv\n",
      "\n",
      "Fold 9 Results:\n",
      "Loss: 0.2251\n",
      "Accuracy: 0.9133\n",
      "Precision: 0.9425\n",
      "Recall: 0.9133\n",
      "F1-Score: 0.9140\n",
      "\n",
      "Fold 10/10\n",
      "Train size: 1350, Validation size: 150\n"
     ]
    },
    {
     "name": "stderr",
     "output_type": "stream",
     "text": [
      "Some weights of BertForSequenceClassification were not initialized from the model checkpoint at dbmdz/bert-base-turkish-cased and are newly initialized: ['classifier.bias', 'classifier.weight']\n",
      "You should probably TRAIN this model on a down-stream task to be able to use it for predictions and inference.\n"
     ]
    },
    {
     "name": "stdout",
     "output_type": "stream",
     "text": [
      "\n",
      "==================================================\n",
      "Training Fold 10\n",
      "==================================================\n",
      "Total steps: 1275, Warmup steps: 127\n",
      "\n",
      "Epoch 1/15\n",
      "------------------------------\n"
     ]
    },
    {
     "name": "stderr",
     "output_type": "stream",
     "text": [
      "Training: 100%|██████████| 85/85 [01:36<00:00,  1.13s/batch, loss=3.3214, lr=3.35e-05, wd=1.00e-02]\n",
      "/Users/egebilge/anaconda3/lib/python3.11/site-packages/sklearn/metrics/_classification.py:1469: UndefinedMetricWarning: Precision is ill-defined and being set to 0.0 in labels with no predicted samples. Use `zero_division` parameter to control this behavior.\n",
      "  _warn_prf(average, modifier, msg_start, len(result))\n",
      "/Users/egebilge/anaconda3/lib/python3.11/site-packages/sklearn/metrics/_classification.py:1469: UndefinedMetricWarning: Precision is ill-defined and being set to 0.0 in labels with no predicted samples. Use `zero_division` parameter to control this behavior.\n",
      "  _warn_prf(average, modifier, msg_start, len(result))\n"
     ]
    },
    {
     "name": "stdout",
     "output_type": "stream",
     "text": [
      "\n",
      "Training Metrics:\n",
      "Loss: 3.1999\n",
      "Precision: 0.0640\n",
      "Recall: 0.0437\n",
      "F1-Score: 0.0357\n",
      "Learning Rate: 3.35e-05\n",
      "Weight Decay: 1.00e-02\n",
      "\n",
      "Validation Metrics:\n",
      "Loss: 2.8175\n",
      "Accuracy: 0.1600\n",
      "Precision: 0.0651\n",
      "Recall: 0.1600\n",
      "F1-Score: 0.0834\n",
      "\n",
      "Saved best model for fold 10 with F1: 0.0834\n",
      "\n",
      "Epoch 2/15\n",
      "------------------------------\n"
     ]
    },
    {
     "name": "stderr",
     "output_type": "stream",
     "text": [
      "Training: 100%|██████████| 85/85 [01:36<00:00,  1.14s/batch, loss=0.9409, lr=4.98e-05, wd=1.60e-02]\n",
      "/Users/egebilge/anaconda3/lib/python3.11/site-packages/sklearn/metrics/_classification.py:1469: UndefinedMetricWarning: Precision is ill-defined and being set to 0.0 in labels with no predicted samples. Use `zero_division` parameter to control this behavior.\n",
      "  _warn_prf(average, modifier, msg_start, len(result))\n"
     ]
    },
    {
     "name": "stdout",
     "output_type": "stream",
     "text": [
      "\n",
      "Training Metrics:\n",
      "Loss: 1.8525\n",
      "Precision: 0.4397\n",
      "Recall: 0.4163\n",
      "F1-Score: 0.3959\n",
      "Learning Rate: 4.98e-05\n",
      "Weight Decay: 1.60e-02\n",
      "\n",
      "Validation Metrics:\n",
      "Loss: 0.9091\n",
      "Accuracy: 0.6933\n",
      "Precision: 0.7013\n",
      "Recall: 0.6933\n",
      "F1-Score: 0.6628\n",
      "\n",
      "Saved best model for fold 10 with F1: 0.6628\n",
      "\n",
      "Epoch 3/15\n",
      "------------------------------\n"
     ]
    },
    {
     "name": "stderr",
     "output_type": "stream",
     "text": [
      "Training: 100%|██████████| 85/85 [01:35<00:00,  1.13s/batch, loss=0.0890, lr=4.85e-05, wd=2.20e-02]\n"
     ]
    },
    {
     "name": "stdout",
     "output_type": "stream",
     "text": [
      "\n",
      "Training Metrics:\n",
      "Loss: 0.5277\n",
      "Precision: 0.7901\n",
      "Recall: 0.7926\n",
      "F1-Score: 0.7880\n",
      "Learning Rate: 4.85e-05\n",
      "Weight Decay: 2.20e-02\n",
      "\n",
      "Validation Metrics:\n",
      "Loss: 0.4878\n",
      "Accuracy: 0.8067\n",
      "Precision: 0.8434\n",
      "Recall: 0.8067\n",
      "F1-Score: 0.8002\n",
      "\n",
      "Saved best model for fold 10 with F1: 0.8002\n",
      "\n",
      "Epoch 4/15\n",
      "------------------------------\n"
     ]
    },
    {
     "name": "stderr",
     "output_type": "stream",
     "text": [
      "Training: 100%|██████████| 85/85 [01:32<00:00,  1.09s/batch, loss=0.3764, lr=4.59e-05, wd=2.80e-02]\n"
     ]
    },
    {
     "name": "stdout",
     "output_type": "stream",
     "text": [
      "\n",
      "Training Metrics:\n",
      "Loss: 0.1558\n",
      "Precision: 0.9220\n",
      "Recall: 0.9215\n",
      "F1-Score: 0.9212\n",
      "Learning Rate: 4.59e-05\n",
      "Weight Decay: 2.80e-02\n",
      "\n",
      "Validation Metrics:\n",
      "Loss: 0.4619\n",
      "Accuracy: 0.7867\n",
      "Precision: 0.8007\n",
      "Recall: 0.7867\n",
      "F1-Score: 0.7734\n",
      "\n",
      "Epoch 5/15\n",
      "------------------------------\n"
     ]
    },
    {
     "name": "stderr",
     "output_type": "stream",
     "text": [
      "Training: 100%|██████████| 85/85 [01:33<00:00,  1.10s/batch, loss=0.0581, lr=4.21e-05, wd=3.40e-02]\n"
     ]
    },
    {
     "name": "stdout",
     "output_type": "stream",
     "text": [
      "\n",
      "Training Metrics:\n",
      "Loss: 0.0578\n",
      "Precision: 0.9673\n",
      "Recall: 0.9667\n",
      "F1-Score: 0.9667\n",
      "Learning Rate: 4.21e-05\n",
      "Weight Decay: 3.40e-02\n",
      "\n",
      "Validation Metrics:\n",
      "Loss: 0.4099\n",
      "Accuracy: 0.8400\n",
      "Precision: 0.8592\n",
      "Recall: 0.8400\n",
      "F1-Score: 0.8347\n",
      "\n",
      "Saved best model for fold 10 with F1: 0.8347\n",
      "\n",
      "Epoch 6/15\n",
      "------------------------------\n"
     ]
    },
    {
     "name": "stderr",
     "output_type": "stream",
     "text": [
      "Training: 100%|██████████| 85/85 [01:37<00:00,  1.15s/batch, loss=0.0023, lr=3.75e-05, wd=4.00e-02]\n"
     ]
    },
    {
     "name": "stdout",
     "output_type": "stream",
     "text": [
      "\n",
      "Training Metrics:\n",
      "Loss: 0.0174\n",
      "Precision: 0.9934\n",
      "Recall: 0.9933\n",
      "F1-Score: 0.9933\n",
      "Learning Rate: 3.75e-05\n",
      "Weight Decay: 4.00e-02\n",
      "\n",
      "Validation Metrics:\n",
      "Loss: 0.3743\n",
      "Accuracy: 0.8733\n",
      "Precision: 0.8876\n",
      "Recall: 0.8733\n",
      "F1-Score: 0.8709\n",
      "\n",
      "Saved best model for fold 10 with F1: 0.8709\n",
      "\n",
      "Epoch 7/15\n",
      "------------------------------\n"
     ]
    },
    {
     "name": "stderr",
     "output_type": "stream",
     "text": [
      "Training: 100%|██████████| 85/85 [01:35<00:00,  1.12s/batch, loss=0.0010, lr=3.22e-05, wd=4.60e-02]\n"
     ]
    },
    {
     "name": "stdout",
     "output_type": "stream",
     "text": [
      "\n",
      "Training Metrics:\n",
      "Loss: 0.0045\n",
      "Precision: 0.9986\n",
      "Recall: 0.9985\n",
      "F1-Score: 0.9985\n",
      "Learning Rate: 3.22e-05\n",
      "Weight Decay: 4.60e-02\n",
      "\n",
      "Validation Metrics:\n",
      "Loss: 0.3982\n",
      "Accuracy: 0.8600\n",
      "Precision: 0.8700\n",
      "Recall: 0.8600\n",
      "F1-Score: 0.8542\n",
      "\n",
      "Epoch 8/15\n",
      "------------------------------\n"
     ]
    },
    {
     "name": "stderr",
     "output_type": "stream",
     "text": [
      "Training: 100%|██████████| 85/85 [01:34<00:00,  1.11s/batch, loss=0.0004, lr=2.64e-05, wd=5.20e-02]\n"
     ]
    },
    {
     "name": "stdout",
     "output_type": "stream",
     "text": [
      "\n",
      "Training Metrics:\n",
      "Loss: 0.0008\n",
      "Precision: 1.0000\n",
      "Recall: 1.0000\n",
      "F1-Score: 1.0000\n",
      "Learning Rate: 2.64e-05\n",
      "Weight Decay: 5.20e-02\n",
      "\n",
      "Validation Metrics:\n",
      "Loss: 0.3717\n",
      "Accuracy: 0.8533\n",
      "Precision: 0.8613\n",
      "Recall: 0.8533\n",
      "F1-Score: 0.8486\n",
      "\n",
      "Epoch 9/15\n",
      "------------------------------\n"
     ]
    },
    {
     "name": "stderr",
     "output_type": "stream",
     "text": [
      "Training: 100%|██████████| 85/85 [01:34<00:00,  1.11s/batch, loss=0.0208, lr=2.06e-05, wd=5.80e-02]\n"
     ]
    },
    {
     "name": "stdout",
     "output_type": "stream",
     "text": [
      "\n",
      "Training Metrics:\n",
      "Loss: 0.0006\n",
      "Precision: 1.0000\n",
      "Recall: 1.0000\n",
      "F1-Score: 1.0000\n",
      "Learning Rate: 2.06e-05\n",
      "Weight Decay: 5.80e-02\n",
      "\n",
      "Validation Metrics:\n",
      "Loss: 0.3685\n",
      "Accuracy: 0.8533\n",
      "Precision: 0.8613\n",
      "Recall: 0.8533\n",
      "F1-Score: 0.8486\n",
      "\n",
      "Early stopping triggered\n",
      "Confusion Matrix Shape: (30, 30)\n",
      "Plots saved to plots/dbmdz_bert-base-turkish-cased/combined_metrics_fold_10.png\n",
      "Metrics for fold 10 saved to fold_metrics/dbmdz_bert-base-turkish-cased/performance_metrics_fold_10.csv\n",
      "\n",
      "Fold 10 Results:\n",
      "Loss: 0.3743\n",
      "Accuracy: 0.8733\n",
      "Precision: 0.8876\n",
      "Recall: 0.8733\n",
      "F1-Score: 0.8709\n",
      "\n",
      "Average metrics across folds:\n",
      "Loss: 0.2698\n",
      "Accuracy: 0.9013\n",
      "Precision: 0.9182\n",
      "Recall: 0.9013\n",
      "F1-Score: 0.9002\n",
      "\n",
      "Saved detailed fold results to 'fold_results.csv'\n",
      "Results saved to 'hyperparameter_search_results.csv'\n"
     ]
    }
   ],
   "source": [
    "# --- Execute Cross-Validation with Hyperparameter Search ---\n",
    "best_metrics = cross_validate(texts, labels)"
   ]
  },
  {
   "cell_type": "code",
   "execution_count": 18,
   "metadata": {},
   "outputs": [
    {
     "name": "stdout",
     "output_type": "stream",
     "text": [
      "Results saved to 'best_metrics.csv'\n"
     ]
    }
   ],
   "source": [
    "# --- Save Overall Results ---\n",
    "results_df = pd.DataFrame([{\n",
    "    'Loss': best_metrics['loss'],\n",
    "    'Accuracy': best_metrics['accuracy'],\n",
    "    'Precision': best_metrics['precision'],\n",
    "    'Recall': best_metrics['recall'],\n",
    "    'F1-Score': best_metrics['f1']\n",
    "}])\n",
    "results_df.to_csv(\"best_metrics.csv\", index=False)\n",
    "print(\"Results saved to 'best_metrics.csv'\")"
   ]
  },
  {
   "cell_type": "code",
   "execution_count": 17,
   "metadata": {},
   "outputs": [
    {
     "name": "stdout",
     "output_type": "stream",
     "text": [
      "Overall performance metrics saved to 'overall_performance_metrics.csv'.\n"
     ]
    },
    {
     "data": {
      "text/html": [
       "<style type=\"text/css\">\n",
       "#T_e059f th {\n",
       "  text-align: center;\n",
       "  font-weight: bold;\n",
       "}\n",
       "#T_e059f td {\n",
       "  text-align: center;\n",
       "}\n",
       "</style>\n",
       "<table id=\"T_e059f\">\n",
       "  <caption>Overall Performance Metrics</caption>\n",
       "  <thead>\n",
       "    <tr>\n",
       "      <th class=\"blank level0\" >&nbsp;</th>\n",
       "      <th id=\"T_e059f_level0_col0\" class=\"col_heading level0 col0\" > </th>\n",
       "      <th id=\"T_e059f_level0_col1\" class=\"col_heading level0 col1\" >Precision</th>\n",
       "      <th id=\"T_e059f_level0_col2\" class=\"col_heading level0 col2\" >Recall</th>\n",
       "      <th id=\"T_e059f_level0_col3\" class=\"col_heading level0 col3\" >F-Score</th>\n",
       "    </tr>\n",
       "  </thead>\n",
       "  <tbody>\n",
       "    <tr>\n",
       "      <th id=\"T_e059f_level0_row0\" class=\"row_heading level0 row0\" >0</th>\n",
       "      <td id=\"T_e059f_row0_col0\" class=\"data row0 col0\" >1</td>\n",
       "      <td id=\"T_e059f_row0_col1\" class=\"data row0 col1\" >0.901429</td>\n",
       "      <td id=\"T_e059f_row0_col2\" class=\"data row0 col2\" >0.960000</td>\n",
       "      <td id=\"T_e059f_row0_col3\" class=\"data row0 col3\" >0.924949</td>\n",
       "    </tr>\n",
       "    <tr>\n",
       "      <th id=\"T_e059f_level0_row1\" class=\"row_heading level0 row1\" >1</th>\n",
       "      <td id=\"T_e059f_row1_col0\" class=\"data row1 col0\" >2</td>\n",
       "      <td id=\"T_e059f_row1_col1\" class=\"data row1 col1\" >0.841429</td>\n",
       "      <td id=\"T_e059f_row1_col2\" class=\"data row1 col2\" >0.840000</td>\n",
       "      <td id=\"T_e059f_row1_col3\" class=\"data row1 col3\" >0.833131</td>\n",
       "    </tr>\n",
       "    <tr>\n",
       "      <th id=\"T_e059f_level0_row2\" class=\"row_heading level0 row2\" >2</th>\n",
       "      <td id=\"T_e059f_row2_col0\" class=\"data row2 col0\" >3</td>\n",
       "      <td id=\"T_e059f_row2_col1\" class=\"data row2 col1\" >0.881429</td>\n",
       "      <td id=\"T_e059f_row2_col2\" class=\"data row2 col2\" >0.760000</td>\n",
       "      <td id=\"T_e059f_row2_col3\" class=\"data row2 col3\" >0.791385</td>\n",
       "    </tr>\n",
       "    <tr>\n",
       "      <th id=\"T_e059f_level0_row3\" class=\"row_heading level0 row3\" >3</th>\n",
       "      <td id=\"T_e059f_row3_col0\" class=\"data row3 col0\" >4</td>\n",
       "      <td id=\"T_e059f_row3_col1\" class=\"data row3 col1\" >0.911905</td>\n",
       "      <td id=\"T_e059f_row3_col2\" class=\"data row3 col2\" >0.920000</td>\n",
       "      <td id=\"T_e059f_row3_col3\" class=\"data row3 col3\" >0.907576</td>\n",
       "    </tr>\n",
       "    <tr>\n",
       "      <th id=\"T_e059f_level0_row4\" class=\"row_heading level0 row4\" >4</th>\n",
       "      <td id=\"T_e059f_row4_col0\" class=\"data row4 col0\" >5</td>\n",
       "      <td id=\"T_e059f_row4_col1\" class=\"data row4 col1\" >0.892262</td>\n",
       "      <td id=\"T_e059f_row4_col2\" class=\"data row4 col2\" >0.920000</td>\n",
       "      <td id=\"T_e059f_row4_col3\" class=\"data row4 col3\" >0.895610</td>\n",
       "    </tr>\n",
       "    <tr>\n",
       "      <th id=\"T_e059f_level0_row5\" class=\"row_heading level0 row5\" >5</th>\n",
       "      <td id=\"T_e059f_row5_col0\" class=\"data row5 col0\" >6</td>\n",
       "      <td id=\"T_e059f_row5_col1\" class=\"data row5 col1\" >0.983333</td>\n",
       "      <td id=\"T_e059f_row5_col2\" class=\"data row5 col2\" >1.000000</td>\n",
       "      <td id=\"T_e059f_row5_col3\" class=\"data row5 col3\" >0.990909</td>\n",
       "    </tr>\n",
       "    <tr>\n",
       "      <th id=\"T_e059f_level0_row6\" class=\"row_heading level0 row6\" >6</th>\n",
       "      <td id=\"T_e059f_row6_col0\" class=\"data row6 col0\" >7</td>\n",
       "      <td id=\"T_e059f_row6_col1\" class=\"data row6 col1\" >1.000000</td>\n",
       "      <td id=\"T_e059f_row6_col2\" class=\"data row6 col2\" >1.000000</td>\n",
       "      <td id=\"T_e059f_row6_col3\" class=\"data row6 col3\" >1.000000</td>\n",
       "    </tr>\n",
       "    <tr>\n",
       "      <th id=\"T_e059f_level0_row7\" class=\"row_heading level0 row7\" >7</th>\n",
       "      <td id=\"T_e059f_row7_col0\" class=\"data row7 col0\" >8</td>\n",
       "      <td id=\"T_e059f_row7_col1\" class=\"data row7 col1\" >1.000000</td>\n",
       "      <td id=\"T_e059f_row7_col2\" class=\"data row7 col2\" >0.980000</td>\n",
       "      <td id=\"T_e059f_row7_col3\" class=\"data row7 col3\" >0.988889</td>\n",
       "    </tr>\n",
       "    <tr>\n",
       "      <th id=\"T_e059f_level0_row8\" class=\"row_heading level0 row8\" >8</th>\n",
       "      <td id=\"T_e059f_row8_col0\" class=\"data row8 col0\" >9</td>\n",
       "      <td id=\"T_e059f_row8_col1\" class=\"data row8 col1\" >0.911429</td>\n",
       "      <td id=\"T_e059f_row8_col2\" class=\"data row8 col2\" >0.820000</td>\n",
       "      <td id=\"T_e059f_row8_col3\" class=\"data row8 col3\" >0.851111</td>\n",
       "    </tr>\n",
       "    <tr>\n",
       "      <th id=\"T_e059f_level0_row9\" class=\"row_heading level0 row9\" >9</th>\n",
       "      <td id=\"T_e059f_row9_col0\" class=\"data row9 col0\" >10</td>\n",
       "      <td id=\"T_e059f_row9_col1\" class=\"data row9 col1\" >0.860000</td>\n",
       "      <td id=\"T_e059f_row9_col2\" class=\"data row9 col2\" >0.800000</td>\n",
       "      <td id=\"T_e059f_row9_col3\" class=\"data row9 col3\" >0.818838</td>\n",
       "    </tr>\n",
       "    <tr>\n",
       "      <th id=\"T_e059f_level0_row10\" class=\"row_heading level0 row10\" >10</th>\n",
       "      <td id=\"T_e059f_row10_col0\" class=\"data row10 col0\" >11</td>\n",
       "      <td id=\"T_e059f_row10_col1\" class=\"data row10 col1\" >0.946667</td>\n",
       "      <td id=\"T_e059f_row10_col2\" class=\"data row10 col2\" >0.980000</td>\n",
       "      <td id=\"T_e059f_row10_col3\" class=\"data row10 col3\" >0.961818</td>\n",
       "    </tr>\n",
       "    <tr>\n",
       "      <th id=\"T_e059f_level0_row11\" class=\"row_heading level0 row11\" >11</th>\n",
       "      <td id=\"T_e059f_row11_col0\" class=\"data row11 col0\" >12</td>\n",
       "      <td id=\"T_e059f_row11_col1\" class=\"data row11 col1\" >0.872222</td>\n",
       "      <td id=\"T_e059f_row11_col2\" class=\"data row11 col2\" >0.980000</td>\n",
       "      <td id=\"T_e059f_row11_col3\" class=\"data row11 col3\" >0.916883</td>\n",
       "    </tr>\n",
       "    <tr>\n",
       "      <th id=\"T_e059f_level0_row12\" class=\"row_heading level0 row12\" >12</th>\n",
       "      <td id=\"T_e059f_row12_col0\" class=\"data row12 col0\" >13</td>\n",
       "      <td id=\"T_e059f_row12_col1\" class=\"data row12 col1\" >1.000000</td>\n",
       "      <td id=\"T_e059f_row12_col2\" class=\"data row12 col2\" >1.000000</td>\n",
       "      <td id=\"T_e059f_row12_col3\" class=\"data row12 col3\" >1.000000</td>\n",
       "    </tr>\n",
       "    <tr>\n",
       "      <th id=\"T_e059f_level0_row13\" class=\"row_heading level0 row13\" >13</th>\n",
       "      <td id=\"T_e059f_row13_col0\" class=\"data row13 col0\" >14</td>\n",
       "      <td id=\"T_e059f_row13_col1\" class=\"data row13 col1\" >1.000000</td>\n",
       "      <td id=\"T_e059f_row13_col2\" class=\"data row13 col2\" >0.980000</td>\n",
       "      <td id=\"T_e059f_row13_col3\" class=\"data row13 col3\" >0.988889</td>\n",
       "    </tr>\n",
       "    <tr>\n",
       "      <th id=\"T_e059f_level0_row14\" class=\"row_heading level0 row14\" >14</th>\n",
       "      <td id=\"T_e059f_row14_col0\" class=\"data row14 col0\" >15</td>\n",
       "      <td id=\"T_e059f_row14_col1\" class=\"data row14 col1\" >0.799048</td>\n",
       "      <td id=\"T_e059f_row14_col2\" class=\"data row14 col2\" >0.880000</td>\n",
       "      <td id=\"T_e059f_row14_col3\" class=\"data row14 col3\" >0.815931</td>\n",
       "    </tr>\n",
       "    <tr>\n",
       "      <th id=\"T_e059f_level0_row15\" class=\"row_heading level0 row15\" >15</th>\n",
       "      <td id=\"T_e059f_row15_col0\" class=\"data row15 col0\" >16</td>\n",
       "      <td id=\"T_e059f_row15_col1\" class=\"data row15 col1\" >0.893095</td>\n",
       "      <td id=\"T_e059f_row15_col2\" class=\"data row15 col2\" >0.920000</td>\n",
       "      <td id=\"T_e059f_row15_col3\" class=\"data row15 col3\" >0.900707</td>\n",
       "    </tr>\n",
       "    <tr>\n",
       "      <th id=\"T_e059f_level0_row16\" class=\"row_heading level0 row16\" >16</th>\n",
       "      <td id=\"T_e059f_row16_col0\" class=\"data row16 col0\" >17</td>\n",
       "      <td id=\"T_e059f_row16_col1\" class=\"data row16 col1\" >0.966667</td>\n",
       "      <td id=\"T_e059f_row16_col2\" class=\"data row16 col2\" >0.960000</td>\n",
       "      <td id=\"T_e059f_row16_col3\" class=\"data row16 col3\" >0.959596</td>\n",
       "    </tr>\n",
       "    <tr>\n",
       "      <th id=\"T_e059f_level0_row17\" class=\"row_heading level0 row17\" >17</th>\n",
       "      <td id=\"T_e059f_row17_col0\" class=\"data row17 col0\" >18</td>\n",
       "      <td id=\"T_e059f_row17_col1\" class=\"data row17 col1\" >0.876429</td>\n",
       "      <td id=\"T_e059f_row17_col2\" class=\"data row17 col2\" >0.720000</td>\n",
       "      <td id=\"T_e059f_row17_col3\" class=\"data row17 col3\" >0.769466</td>\n",
       "    </tr>\n",
       "    <tr>\n",
       "      <th id=\"T_e059f_level0_row18\" class=\"row_heading level0 row18\" >18</th>\n",
       "      <td id=\"T_e059f_row18_col0\" class=\"data row18 col0\" >19</td>\n",
       "      <td id=\"T_e059f_row18_col1\" class=\"data row18 col1\" >0.828095</td>\n",
       "      <td id=\"T_e059f_row18_col2\" class=\"data row18 col2\" >0.860000</td>\n",
       "      <td id=\"T_e059f_row18_col3\" class=\"data row18 col3\" >0.837475</td>\n",
       "    </tr>\n",
       "    <tr>\n",
       "      <th id=\"T_e059f_level0_row19\" class=\"row_heading level0 row19\" >19</th>\n",
       "      <td id=\"T_e059f_row19_col0\" class=\"data row19 col0\" >20</td>\n",
       "      <td id=\"T_e059f_row19_col1\" class=\"data row19 col1\" >0.840476</td>\n",
       "      <td id=\"T_e059f_row19_col2\" class=\"data row19 col2\" >0.860000</td>\n",
       "      <td id=\"T_e059f_row19_col3\" class=\"data row19 col3\" >0.835528</td>\n",
       "    </tr>\n",
       "    <tr>\n",
       "      <th id=\"T_e059f_level0_row20\" class=\"row_heading level0 row20\" >20</th>\n",
       "      <td id=\"T_e059f_row20_col0\" class=\"data row20 col0\" >21</td>\n",
       "      <td id=\"T_e059f_row20_col1\" class=\"data row20 col1\" >0.910000</td>\n",
       "      <td id=\"T_e059f_row20_col2\" class=\"data row20 col2\" >0.740000</td>\n",
       "      <td id=\"T_e059f_row20_col3\" class=\"data row20 col3\" >0.786587</td>\n",
       "    </tr>\n",
       "    <tr>\n",
       "      <th id=\"T_e059f_level0_row21\" class=\"row_heading level0 row21\" >21</th>\n",
       "      <td id=\"T_e059f_row21_col0\" class=\"data row21 col0\" >22</td>\n",
       "      <td id=\"T_e059f_row21_col1\" class=\"data row21 col1\" >0.983333</td>\n",
       "      <td id=\"T_e059f_row21_col2\" class=\"data row21 col2\" >0.860000</td>\n",
       "      <td id=\"T_e059f_row21_col3\" class=\"data row21 col3\" >0.910354</td>\n",
       "    </tr>\n",
       "    <tr>\n",
       "      <th id=\"T_e059f_level0_row22\" class=\"row_heading level0 row22\" >22</th>\n",
       "      <td id=\"T_e059f_row22_col0\" class=\"data row22 col0\" >23</td>\n",
       "      <td id=\"T_e059f_row22_col1\" class=\"data row22 col1\" >0.821667</td>\n",
       "      <td id=\"T_e059f_row22_col2\" class=\"data row22 col2\" >0.820000</td>\n",
       "      <td id=\"T_e059f_row22_col3\" class=\"data row22 col3\" >0.810505</td>\n",
       "    </tr>\n",
       "    <tr>\n",
       "      <th id=\"T_e059f_level0_row23\" class=\"row_heading level0 row23\" >23</th>\n",
       "      <td id=\"T_e059f_row23_col0\" class=\"data row23 col0\" >24</td>\n",
       "      <td id=\"T_e059f_row23_col1\" class=\"data row23 col1\" >0.954762</td>\n",
       "      <td id=\"T_e059f_row23_col2\" class=\"data row23 col2\" >0.980000</td>\n",
       "      <td id=\"T_e059f_row23_col3\" class=\"data row23 col3\" >0.963131</td>\n",
       "    </tr>\n",
       "    <tr>\n",
       "      <th id=\"T_e059f_level0_row24\" class=\"row_heading level0 row24\" >24</th>\n",
       "      <td id=\"T_e059f_row24_col0\" class=\"data row24 col0\" >25</td>\n",
       "      <td id=\"T_e059f_row24_col1\" class=\"data row24 col1\" >0.983333</td>\n",
       "      <td id=\"T_e059f_row24_col2\" class=\"data row24 col2\" >0.980000</td>\n",
       "      <td id=\"T_e059f_row24_col3\" class=\"data row24 col3\" >0.979798</td>\n",
       "    </tr>\n",
       "    <tr>\n",
       "      <th id=\"T_e059f_level0_row25\" class=\"row_heading level0 row25\" >25</th>\n",
       "      <td id=\"T_e059f_row25_col0\" class=\"data row25 col0\" >26</td>\n",
       "      <td id=\"T_e059f_row25_col1\" class=\"data row25 col1\" >1.000000</td>\n",
       "      <td id=\"T_e059f_row25_col2\" class=\"data row25 col2\" >0.940000</td>\n",
       "      <td id=\"T_e059f_row25_col3\" class=\"data row25 col3\" >0.966667</td>\n",
       "    </tr>\n",
       "    <tr>\n",
       "      <th id=\"T_e059f_level0_row26\" class=\"row_heading level0 row26\" >26</th>\n",
       "      <td id=\"T_e059f_row26_col0\" class=\"data row26 col0\" >27</td>\n",
       "      <td id=\"T_e059f_row26_col1\" class=\"data row26 col1\" >0.950000</td>\n",
       "      <td id=\"T_e059f_row26_col2\" class=\"data row26 col2\" >0.980000</td>\n",
       "      <td id=\"T_e059f_row26_col3\" class=\"data row26 col3\" >0.961616</td>\n",
       "    </tr>\n",
       "    <tr>\n",
       "      <th id=\"T_e059f_level0_row27\" class=\"row_heading level0 row27\" >27</th>\n",
       "      <td id=\"T_e059f_row27_col0\" class=\"data row27 col0\" >28</td>\n",
       "      <td id=\"T_e059f_row27_col1\" class=\"data row27 col1\" >0.946667</td>\n",
       "      <td id=\"T_e059f_row27_col2\" class=\"data row27 col2\" >0.960000</td>\n",
       "      <td id=\"T_e059f_row27_col3\" class=\"data row27 col3\" >0.950707</td>\n",
       "    </tr>\n",
       "    <tr>\n",
       "      <th id=\"T_e059f_level0_row28\" class=\"row_heading level0 row28\" >28</th>\n",
       "      <td id=\"T_e059f_row28_col0\" class=\"data row28 col0\" >29</td>\n",
       "      <td id=\"T_e059f_row28_col1\" class=\"data row28 col1\" >0.876667</td>\n",
       "      <td id=\"T_e059f_row28_col2\" class=\"data row28 col2\" >0.800000</td>\n",
       "      <td id=\"T_e059f_row28_col3\" class=\"data row28 col3\" >0.829949</td>\n",
       "    </tr>\n",
       "    <tr>\n",
       "      <th id=\"T_e059f_level0_row29\" class=\"row_heading level0 row29\" >29</th>\n",
       "      <td id=\"T_e059f_row29_col0\" class=\"data row29 col0\" >30</td>\n",
       "      <td id=\"T_e059f_row29_col1\" class=\"data row29 col1\" >0.913333</td>\n",
       "      <td id=\"T_e059f_row29_col2\" class=\"data row29 col2\" >0.840000</td>\n",
       "      <td id=\"T_e059f_row29_col3\" class=\"data row29 col3\" >0.858355</td>\n",
       "    </tr>\n",
       "    <tr>\n",
       "      <th id=\"T_e059f_level0_row30\" class=\"row_heading level0 row30\" >30</th>\n",
       "      <td id=\"T_e059f_row30_col0\" class=\"data row30 col0\" >Average</td>\n",
       "      <td id=\"T_e059f_row30_col1\" class=\"data row30 col1\" >0.918189</td>\n",
       "      <td id=\"T_e059f_row30_col2\" class=\"data row30 col2\" >0.901333</td>\n",
       "      <td id=\"T_e059f_row30_col3\" class=\"data row30 col3\" >0.900212</td>\n",
       "    </tr>\n",
       "  </tbody>\n",
       "</table>\n"
      ],
      "text/plain": [
       "<pandas.io.formats.style.Styler at 0x3bccc4410>"
      ]
     },
     "metadata": {},
     "output_type": "display_data"
    }
   ],
   "source": [
    "# Generate and display the final performance table as required\n",
    "overall_results = generate_overall_results(\"fold_metrics/dbmdz_bert-base-turkish-cased\", output_filename=\"overall_performance_metrics.csv\")\n",
    "display_as_dataframe(overall_results)\n"
   ]
  }
 ],
 "metadata": {
  "kernelspec": {
   "display_name": "NLP",
   "language": "python",
   "name": "python3"
  },
  "language_info": {
   "codemirror_mode": {
    "name": "ipython",
    "version": 3
   },
   "file_extension": ".py",
   "mimetype": "text/x-python",
   "name": "python",
   "nbconvert_exporter": "python",
   "pygments_lexer": "ipython3",
   "version": "3.11.5"
  }
 },
 "nbformat": 4,
 "nbformat_minor": 2
}
